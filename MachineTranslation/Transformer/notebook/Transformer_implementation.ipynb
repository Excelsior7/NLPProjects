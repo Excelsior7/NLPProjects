{
 "cells": [
  {
   "cell_type": "code",
   "execution_count": 317,
   "id": "13c3a76c",
   "metadata": {},
   "outputs": [],
   "source": [
    "import torch\n",
    "import torch.nn as nn\n",
    "import numpy as np\n",
    "import pandas as pd\n",
    "import matplotlib.pyplot as plt\n",
    "\n",
    "import math\n",
    "import random\n",
    "import collections\n",
    "import copy\n",
    "import pickle\n",
    "import itertools\n",
    "from statistics import mean\n",
    "import time"
   ]
  },
  {
   "cell_type": "markdown",
   "id": "09093bf0",
   "metadata": {},
   "source": [
    "***\n",
    "### TRANSFORMER ENCODER-DECODER IMPLEMENTATION FROM SCRATCH ON THE MACHINE TRANSLATION PROBLEM"
   ]
  },
  {
   "cell_type": "markdown",
   "id": "75725322",
   "metadata": {},
   "source": [
    "***\n",
    "### *NOTEBOOK STATE VARIABLES*"
   ]
  },
  {
   "cell_type": "code",
   "execution_count": 318,
   "id": "57b0088c",
   "metadata": {},
   "outputs": [],
   "source": [
    "data_augmentation = True;\n",
    "prod_mode = True;\n",
    "dev_mode = False;\n",
    "hyperparameters_optimization_mode = False;\n",
    "inference_mode = False;\n",
    "google_colab_env = False;\n",
    "load_parameters = False;\n",
    "load_datasets = False;\n",
    "save_params = False;\n",
    "en_to_fr = True;\n",
    "load_on_cpu = True;\n",
    "transfer_learning=False;"
   ]
  },
  {
   "attachments": {},
   "cell_type": "markdown",
   "id": "f127bed2",
   "metadata": {},
   "source": [
    "***\n",
    "#### *GOOGLE COLAB*"
   ]
  },
  {
   "attachments": {},
   "cell_type": "markdown",
   "id": "a4225c78",
   "metadata": {},
   "source": [
    "CONNECT TO GOOGLE DRIVE"
   ]
  },
  {
   "cell_type": "code",
   "execution_count": 319,
   "id": "824efbd5",
   "metadata": {},
   "outputs": [],
   "source": [
    "# if google_colab_env == True:\n",
    "#     from google.colab import drive\n",
    "#     drive.mount('/content/drive')"
   ]
  },
  {
   "attachments": {},
   "cell_type": "markdown",
   "id": "3b56078e",
   "metadata": {},
   "source": [
    "PRINT GPU SPECS"
   ]
  },
  {
   "cell_type": "code",
   "execution_count": 320,
   "id": "075e6fc4",
   "metadata": {},
   "outputs": [],
   "source": [
    "# if google_colab_env == True:\n",
    "#     gpu_info = !nvidia-smi\n",
    "#     gpu_info = '\\n'.join(gpu_info)\n",
    "#     if gpu_info.find('failed') >= 0:\n",
    "#         print('Not connected to a GPU')\n",
    "#     else:\n",
    "#         print(gpu_info)"
   ]
  },
  {
   "attachments": {},
   "cell_type": "markdown",
   "id": "47c7ba35",
   "metadata": {},
   "source": [
    "PRINT MEMORY SPECS"
   ]
  },
  {
   "cell_type": "code",
   "execution_count": 321,
   "id": "d8594fa7",
   "metadata": {},
   "outputs": [],
   "source": [
    "# if google_colab_env == True:\n",
    "#     from psutil import virtual_memory\n",
    "#     ram_gb = virtual_memory().total / 1e9\n",
    "#     print('Your runtime has {:.1f} gigabytes of available RAM\\n'.format(ram_gb))\n",
    "\n",
    "#     if ram_gb < 20:\n",
    "#         print('Not using a high-RAM runtime')\n",
    "#     else:\n",
    "#         print('You are using a high-RAM runtime!')"
   ]
  },
  {
   "cell_type": "markdown",
   "id": "a2349659",
   "metadata": {},
   "source": [
    "***\n",
    "### *DATA*\n",
    "\n",
    "Source : http://www.manythings.org/anki/\n",
    "\n",
    "In the file **\"en_fra.txt\"** each line is an example and can be broken down as follows:\n",
    "\n",
    "ENGLISH_PART \\t FRENCH_PART \\t REFERENCES_PART"
   ]
  },
  {
   "cell_type": "code",
   "execution_count": 322,
   "id": "7bc3bc16",
   "metadata": {},
   "outputs": [],
   "source": [
    "with open(\"../data/en_fra.txt\") as f:\n",
    "    examples = f.readlines();"
   ]
  },
  {
   "cell_type": "code",
   "execution_count": 323,
   "id": "51df4f98",
   "metadata": {},
   "outputs": [
    {
     "data": {
      "text/plain": [
       "'Go.\\tVa !\\tCC-BY 2.0 (France) Attribution: tatoeba.org #2877272 (CM) & #1158250 (Wittydev)\\n'"
      ]
     },
     "execution_count": 323,
     "metadata": {},
     "output_type": "execute_result"
    }
   ],
   "source": [
    "examples[0]"
   ]
  },
  {
   "cell_type": "code",
   "execution_count": 327,
   "id": "0014eb6e",
   "metadata": {},
   "outputs": [],
   "source": [
    "#The standardizeString function takes as input a string: string and a boolean: is_string_target. The algorithm applied to the string consists in:\n",
    "\n",
    "#1. replacing in the input each unicode space character (named space_characters below) with a space \" \". \n",
    "#(running example, input: \"I\\xa0take\\xa0my\\xa0coffee\\xa0at\\xa08:30\\xa0in\\xa0the\\xa0   morning\", output: \"I take my coffee at 8:30 in the    morning\")\n",
    "\n",
    "#2. divide the string into sub-strings relative to each space (if a sub-string contains only space, it is not retained)\n",
    "#(running example, input: \"I take my coffee at 8:30 in the    morning\", output: [\"I\", \"take\", \"my\", \"coffee\", \"at\" , \"8:30\", \"in\", \"the\", \"morning\"])\n",
    "\n",
    "#3. each of the sub-strings from the previous step is passed to the _standardizeString function. The algorithm applied to each sub-string consists in isolating each special character or number \n",
    "#(named special_characters and numbers respectively below) from the other characters surrounding it. This is to maximize the generalization capacity of the translation algorithm.\n",
    "#Moreover, each string is lower-cased (this ensures that no redundancy is present in the vocabulary and makes it easier to communicate with it)\n",
    "#(running example, if input is \"I\", output is [\"i\"]; if input is \"take\", output is [\"take\"]; if input is \"8:30\", output is [\"8\",\":\", \"3\", \"0\"])\n",
    "\n",
    "#4. the standardizeString function concatenates the outputs of _standardizeString by separating them with the token \"<space>\".\n",
    "#(running example, [\"i\", \"<space>\", \"take\", \"<space>\", \"my\", \"<space>\", \"coffee\", \"<space>\", \"at\" ,\"<space>\", \"8\", \":\", \"3\", \"0\", \"<space>\", \"in\", \"<space>\", \"the\", \"<space>\", \"morning\"]\n",
    "\n",
    "#5. the token \"<eos>\" (meaning \"end of sequence\") is added to the end of the list in step 4.\n",
    "\n",
    "#6. if the initial input of the standardizeString function is a target example (this must be set to True in the input is_string_target),\n",
    "#and in this case, the token \"<bos>\" (meaning \"begin of sequence\") is added to the beginning of the list in step 5.\n",
    "\n",
    "# IN SHORT:\n",
    "# standardizeString(\"I\\xa0take\\xa0my\\xa0coffee\\xa0at\\xa08:30\\xa0in\\xa0the\\xa0   morning\", False)\n",
    "# return ['i', '<space>', 'take', '<space>', 'my', '<space>', 'coffee', '<space>', 'at', '<space>', '8', ':', '3', '0', '<space>', 'in', '<space>', 'the', '<space>', 'morning', '<eos>'];\n",
    "\n",
    "\n",
    "def standardizeString(string, is_string_target):\n",
    "\n",
    "    def _standardizeString(string):\n",
    "        special_characters = '«»&~\"#\\'{([-|`_\\\\^@)]=}+¨£$¤%µ,?;.:!§*<>';\n",
    "        numbers = '0123456789';\n",
    "\n",
    "        len_string, _string = len(string), '';\n",
    "        for i, char in enumerate(string):\n",
    "            \n",
    "            ## Handle special characters and numbers\n",
    "            if char in special_characters or char in numbers:\n",
    "                left_space, right_space = '', '';\n",
    "                \n",
    "                if i > 0 and string[i-1] != ' ':\n",
    "                    left_space = ' ';\n",
    "\n",
    "                if i+1 < len_string and string[i+1] != ' ' and string[i+1] not in special_characters and string[i+1] not in numbers:\n",
    "                    right_space = ' ';\n",
    "                \n",
    "                _string += left_space + char + right_space;\n",
    "\n",
    "            else:\n",
    "                _string += char;\n",
    "\n",
    "        return _string.lower().split(' ');\n",
    "\n",
    "    ## Remove space characters\n",
    "    space_characters = ['\\u202f', '\\u2009','\\xa0'];\n",
    "    for i in range(len(space_characters)):\n",
    "        if space_characters[i] in string:\n",
    "            string = string.replace(space_characters[i], ' ');\n",
    "\n",
    "    _string = [s.strip() for s in string.split(' ') if s.strip() != ''];\n",
    "\n",
    "    output = [];\n",
    "    for i, _str in enumerate(_string):\n",
    "        output += _standardizeString(_str);\n",
    "        if i+1 < len(_string):\n",
    "            output += ['<space>'];\n",
    "\n",
    "    if is_string_target:\n",
    "        output = ['<bos>'] + output;\n",
    "\n",
    "    return output + ['<eos>'];        "
   ]
  },
  {
   "cell_type": "code",
   "execution_count": 329,
   "id": "05ff6e82",
   "metadata": {},
   "outputs": [],
   "source": [
    "def standardizeExamples(examples):\n",
    "\n",
    "    en_examples, fr_examples = [], [];\n",
    "\n",
    "    for i in range(len(examples)):\n",
    "        exi = examples[i][0:examples[i].find('CC-BY 2.0')];\n",
    "\n",
    "        exi = exi.split('\\t');\n",
    "\n",
    "        if en_to_fr:\n",
    "            en_examples.append(standardizeString(exi[0], False));\n",
    "            fr_examples.append(standardizeString(exi[1], True));\n",
    "        else:\n",
    "            en_examples.append(standardizeString(exi[0], True));\n",
    "            fr_examples.append(standardizeString(exi[1], False));\n",
    "\n",
    "    return en_examples, fr_examples;"
   ]
  },
  {
   "cell_type": "code",
   "execution_count": 330,
   "id": "60234c1b",
   "metadata": {},
   "outputs": [],
   "source": [
    "if load_datasets == False:\n",
    "    en_examples, fr_examples = standardizeExamples(examples);"
   ]
  },
  {
   "cell_type": "code",
   "execution_count": 331,
   "id": "f2820d09",
   "metadata": {},
   "outputs": [
    {
     "name": "stdout",
     "output_type": "stream",
     "text": [
      "I've got a meeting at 2:30.\tJ'ai une réunion à 2h30.\t\n",
      "--------\n",
      "EN =>  ['i', \"'\", 've', '<space>', 'got', '<space>', 'a', '<space>', 'meeting', '<space>', 'at', '<space>', '2', ':', '3', '0', '.', '<eos>']\n",
      "FR =>  ['<bos>', 'j', \"'\", 'ai', '<space>', 'une', '<space>', 'réunion', '<space>', 'à', '<space>', '2', 'h', '3', '0', '.', '<eos>']\n"
     ]
    }
   ],
   "source": [
    "if load_datasets == False:\n",
    "    print(examples[87620][0:examples[87620].find('CC-BY 2.0')]);\n",
    "    print('--------');\n",
    "    print('EN => ',en_examples[87620]);\n",
    "    print('FR => ',fr_examples[87620]);"
   ]
  },
  {
   "cell_type": "code",
   "execution_count": 332,
   "id": "80079afc",
   "metadata": {},
   "outputs": [
    {
     "name": "stdout",
     "output_type": "stream",
     "text": [
      "\"More coffee?\" \"No, thanks.\"\t«Davantage de café ?» «Non, c'est bon.»\t\n",
      "--------\n",
      "EN =>  ['\"', 'more', '<space>', 'coffee', '?', '\"', '<space>', '\"', 'no', ',', '<space>', 'thanks', '.', '\"', '<eos>']\n",
      "FR =>  ['<bos>', '«', 'davantage', '<space>', 'de', '<space>', 'café', '<space>', '?', '»', '<space>', '«', 'non', ',', '<space>', 'c', \"'\", 'est', '<space>', 'bon', '.', '»', '<eos>']\n"
     ]
    }
   ],
   "source": [
    "if load_datasets == False:\n",
    "    print(examples[91613][0:examples[91613].find('CC-BY 2.0')]);\n",
    "    print('--------');\n",
    "    print('EN => ',en_examples[91613]);\n",
    "    print('FR => ',fr_examples[91613]);"
   ]
  },
  {
   "cell_type": "markdown",
   "id": "790476bb",
   "metadata": {},
   "source": [
    "***\n",
    "### *DATA AUGMENTATION*\n",
    "\n",
    "As explained here https://blog.tatoeba.org/2019/08/should-we-stop-sentences-with-tom-and.html?m=1, and as can be observed directly by browsing the dataset, the first name Tom and the first name Mary are the predominantly used names, and I will use this as an entry point for data augmentation. "
   ]
  },
  {
   "cell_type": "code",
   "execution_count": 333,
   "id": "7d3dab6a",
   "metadata": {},
   "outputs": [
    {
     "data": {
      "text/html": [
       "<div>\n",
       "<style scoped>\n",
       "    .dataframe tbody tr th:only-of-type {\n",
       "        vertical-align: middle;\n",
       "    }\n",
       "\n",
       "    .dataframe tbody tr th {\n",
       "        vertical-align: top;\n",
       "    }\n",
       "\n",
       "    .dataframe thead th {\n",
       "        text-align: right;\n",
       "    }\n",
       "</style>\n",
       "<table border=\"1\" class=\"dataframe\">\n",
       "  <thead>\n",
       "    <tr style=\"text-align: right;\">\n",
       "      <th></th>\n",
       "      <th>John</th>\n",
       "      <th>boy</th>\n",
       "    </tr>\n",
       "  </thead>\n",
       "  <tbody>\n",
       "    <tr>\n",
       "      <th>0</th>\n",
       "      <td>William</td>\n",
       "      <td>boy</td>\n",
       "    </tr>\n",
       "    <tr>\n",
       "      <th>1</th>\n",
       "      <td>James</td>\n",
       "      <td>boy</td>\n",
       "    </tr>\n",
       "    <tr>\n",
       "      <th>2</th>\n",
       "      <td>Charles</td>\n",
       "      <td>boy</td>\n",
       "    </tr>\n",
       "    <tr>\n",
       "      <th>3</th>\n",
       "      <td>George</td>\n",
       "      <td>boy</td>\n",
       "    </tr>\n",
       "    <tr>\n",
       "      <th>4</th>\n",
       "      <td>Frank</td>\n",
       "      <td>boy</td>\n",
       "    </tr>\n",
       "  </tbody>\n",
       "</table>\n",
       "</div>"
      ],
      "text/plain": [
       "      John  boy\n",
       "0  William  boy\n",
       "1    James  boy\n",
       "2  Charles  boy\n",
       "3   George  boy\n",
       "4    Frank  boy"
      ]
     },
     "execution_count": 333,
     "metadata": {},
     "output_type": "execute_result"
    }
   ],
   "source": [
    "names_dataset = pd.read_csv(\"../data/babynames-clean.csv\");\n",
    "names_dataset.head()"
   ]
  },
  {
   "cell_type": "code",
   "execution_count": 334,
   "id": "7298c6a8",
   "metadata": {},
   "outputs": [
    {
     "data": {
      "text/plain": [
       "3436"
      ]
     },
     "execution_count": 334,
     "metadata": {},
     "output_type": "execute_result"
    }
   ],
   "source": [
    "boy_names = names_dataset[names_dataset.iloc[:,1] == \"boy\"].reset_index().iloc[:,1];\n",
    "len_boy_names = len(boy_names);\n",
    "len_boy_names"
   ]
  },
  {
   "cell_type": "code",
   "execution_count": 335,
   "id": "fb1e7b98",
   "metadata": {},
   "outputs": [
    {
     "data": {
      "text/plain": [
       "3345"
      ]
     },
     "execution_count": 335,
     "metadata": {},
     "output_type": "execute_result"
    }
   ],
   "source": [
    "girl_names = names_dataset[names_dataset.iloc[:,1] == \"girl\"].reset_index().iloc[:,1];\n",
    "len_girl_names = len(girl_names);\n",
    "len_girl_names"
   ]
  },
  {
   "cell_type": "code",
   "execution_count": 336,
   "id": "a684c1ef",
   "metadata": {},
   "outputs": [],
   "source": [
    "#The purpose of specialEntries and dataAugment is to increase the dataset in order to maximize the generalization capability.\n",
    "#Chronologically, specialEntries did not exist and dataAugment was only intended to find examples such that the source and target examples \n",
    "#contain the same first name (e.g. \"tom\") and replace these first names with a first name from the babynames-clean.csv dataset.\n",
    "#The addition of specialEntries does not change this, its role is simply to further increase the dataset in order to maximize\n",
    "#the generalization capacity of the algorithm and also to bring regularization at the same time. \n",
    "#To do this, the idea is always to look for examples such that the source example and the target example contain the same word \n",
    "#(not necessarily a first name, see below en_fr_identical_words), and to replace this word by:\n",
    "\n",
    "# - if the index i of the example is a multiple of ukn_period, we replace this word by the token: \"<ukn>\"\n",
    "# - if the index i of the example is a multiple of token_noize_period, we replace this word with: \"<special_begin>\", \"s1\", \"s2\", ..., \"sM\", \"<special_end>\" \n",
    "#   (M is the length of the word, and sk is the replacement of the kth character of the word by a randomly selected symbol from the list symbols - see below)\n",
    "# - otherwise we replace this word with: \"<special_begin>\", \"c1\", \"c2\", ..., \"cM\", \"<special_end>\"\n",
    "#   (such that ck is the kth character of the word)\n",
    "\n",
    "#The token \"<ukn>\" has primarily a regularization purpose.\n",
    "#\"<special_begin>\", ... , \"<special_end>\" (which replaces the three small dots depends on the index i) has the objective to make the algorithm able\n",
    "#to process any type of input that may contain tokens not referenced by the vocabulary. Here is a practical case to illustrate:\n",
    "\n",
    "#If for example the input is \"the world is b3aut!ful\", my goal was to be able to give as output \"le monde est b3aut!ful\". To do this\n",
    "#my algorithm breaks the input in the following way: \n",
    "#[\"the\", \"<space>\", \"world\", \"<space>\", \"is\", \"<space>\", \"<special_begin>\", \"b\", \"3\", \"a\", \"u\", \"t\", \"!\", \"f\", \"u\", \"l\",\"<special_end>\", \"<eos>\"].\n",
    "\n",
    "#The expected output is then as follows:\n",
    "#[\"<bos>\", \"le\", \"<space>\", \"monde\", \"<space>\", \"est\", \"<space>\", \"<special_begin>\", \"b\", \"3\", \"a\", \"u\", \"t\", \"!\", \"f\", \"u\", \"l\",\"<special_end>\", \"<eos>\"].\n",
    "\n",
    "\n",
    "def specialEntries(i, token_noize_period, ukn_period, word_entry_point, word_replacement, symbols):\n",
    "    eni_augmented, fri_augmented = [], [];\n",
    "\n",
    "    if i % token_noize_period == 0:\n",
    "        tokens_noize = [];\n",
    "        if word_replacement == None:\n",
    "            for _ in range(len(word_entry_point)):\n",
    "                tokens_noize.append(random.choice(symbols));\n",
    "        else:\n",
    "            for _ in range(len(word_replacement)):\n",
    "                tokens_noize.append(random.choice(symbols));\n",
    "    \n",
    "    for t in en_examples[i]:\n",
    "        if t == word_entry_point:\n",
    "            if i % ukn_period == 0:\n",
    "                eni_augmented.append('<ukn>');        \n",
    "            else:\n",
    "                eni_augmented.append('<special_begin>');\n",
    "                if i % token_noize_period == 0:\n",
    "                    for tn in tokens_noize:\n",
    "                        eni_augmented.append(tn);\n",
    "                else:\n",
    "                    for token in word_replacement:\n",
    "                        eni_augmented.append(token);\n",
    "                eni_augmented.append('<special_end>');\n",
    "        else:\n",
    "            eni_augmented.append(t);\n",
    "    en_examples.append(eni_augmented);\n",
    "        \n",
    "    for t in fr_examples[i]:\n",
    "        if t == word_entry_point:\n",
    "            if i % ukn_period == 0:\n",
    "                fri_augmented.append('<ukn>'); \n",
    "            else:\n",
    "                fri_augmented.append('<special_begin>');\n",
    "                if i % token_noize_period == 0:\n",
    "                    for tn in tokens_noize:\n",
    "                        fri_augmented.append(tn);\n",
    "                else:\n",
    "                    for token in word_replacement:\n",
    "                        fri_augmented.append(token);\n",
    "                fri_augmented.append('<special_end>');\n",
    "        else:\n",
    "            fri_augmented.append(t);\n",
    "    fr_examples.append(fri_augmented);"
   ]
  },
  {
   "cell_type": "code",
   "execution_count": 337,
   "id": "a6e3605e",
   "metadata": {},
   "outputs": [],
   "source": [
    "def augmentData():\n",
    "\n",
    "    \n",
    "    counter_boy = 0;\n",
    "    counter_girl = 0;\n",
    "    duplicate_multiplier_boy = 2;\n",
    "    duplicate_multiplier_girl = 2;\n",
    "\n",
    "    symbols = ['a', 'b', 'c', 'd', 'e', 'f', 'g', 'h', 'i', 'j', 'k', 'l', 'm', 'n', 'o', 'p', 'q', 'r', 's', 't', 'u', 'v', 'w', 'x', 'y', 'z']\n",
    "    symbols += ['&', 'é', '~', '\"', '#', '\\'', '{', '(', '[', '-', '|', 'è', '`', '_', '\\\\', 'ç', '^', 'à', '@', ')', ']', '=', '°', '}', '+', '/', '*', '?', ',', ';', '.', ':', '!', '§', '¨', '%', 'ù', '$', '£', '¤', 'µ', '«', '»', '<', '>'];\n",
    "\n",
    "\n",
    "    for i in range(len(en_examples)):\n",
    "        eni = en_examples[i];\n",
    "\n",
    "        if 'tom' in eni and 'tom' in fr_examples[i]:\n",
    "            for j in range(duplicate_multiplier_boy):\n",
    "                boy_name = boy_names.iloc[((counter_boy*duplicate_multiplier_boy)+j) % len_boy_names].lower();\n",
    "                eni_augmented = [boy_name if t=='tom' else t for t in eni];\n",
    "                fri_augmented = [boy_name if t=='tom' else t for t in fr_examples[i]];\n",
    "\n",
    "                en_examples.append(eni_augmented);\n",
    "                fr_examples.append(fri_augmented);\n",
    "            \n",
    "            counter_boy += 1;\n",
    "\n",
    "            specialEntries(i, token_noize_period=3, ukn_period=20, word_entry_point='tom', word_replacement=boy_name ,symbols=symbols);\n",
    "\n",
    "        if 'mary' in eni and ('mary' in fr_examples[i] or 'marie' in fr_examples[i]):\n",
    "            for j in range(duplicate_multiplier_girl):\n",
    "                girl_name = girl_names.iloc[((counter_girl*duplicate_multiplier_girl)+j) % len_girl_names].lower();\n",
    "                eni_augmented = [girl_name if t=='mary' else t for t in eni];\n",
    "                fri_augmented = [girl_name if (t=='mary'or t=='marie') else t for t in fr_examples[i]];\n",
    "\n",
    "                en_examples.append(eni_augmented);\n",
    "                fr_examples.append(fri_augmented);\n",
    "\n",
    "            counter_girl += 1;\n",
    "\n",
    "        if 'tom' in eni and 'mary' in eni:\n",
    "            boy_name = random.choice(boy_names).lower();\n",
    "            girl_name = random.choice(girl_names).lower();\n",
    "\n",
    "            eni_augmented = [girl_name if t=='mary' else t for t in eni];\n",
    "            eni_augmented = [boy_name if t=='tom' else t for t in eni_augmented];\n",
    "\n",
    "            fri_augmented = [girl_name if (t=='mary'or t=='marie') else t for t in fr_examples[i]];\n",
    "            fri_augmented = [boy_name if t=='tom' else t for t in fri_augmented];\n",
    "\n",
    "            en_examples.append(eni_augmented);\n",
    "            fr_examples.append(fri_augmented);\n",
    "\n",
    "\n",
    "        en_fr_identical_words = ['paris', 'canada', 'facebook', 'boston', 'jupiter', 'pizza', 'vodka', 'piano', 'train', 'radio', 'message', 'danger'];\n",
    "        duplicate_multiplier = 3;\n",
    "        for word in en_fr_identical_words:\n",
    "            if word in eni and word in fr_examples[i]:\n",
    "                for _ in range(duplicate_multiplier):\n",
    "                    specialEntries(i, token_noize_period=1, ukn_period=20, word_entry_point=word, word_replacement=None, symbols=symbols);"
   ]
  },
  {
   "cell_type": "code",
   "execution_count": 338,
   "id": "bdf42235",
   "metadata": {},
   "outputs": [],
   "source": [
    "if data_augmentation is True:\n",
    "    augmentData();"
   ]
  },
  {
   "cell_type": "code",
   "execution_count": 339,
   "id": "e789c400",
   "metadata": {},
   "outputs": [],
   "source": [
    "# for en, fr in zip(en_examples,fr_examples):\n",
    "#     print(en)\n",
    "#     print(fr)\n",
    "#     print(\"********\")"
   ]
  },
  {
   "cell_type": "markdown",
   "id": "3d593ead",
   "metadata": {},
   "source": [
    "***\n",
    "### *DATASET STATISTICS*"
   ]
  },
  {
   "cell_type": "code",
   "execution_count": 340,
   "id": "b57a1bb9",
   "metadata": {},
   "outputs": [],
   "source": [
    "def sequencesLen(dataset_examples):\n",
    "    \n",
    "    sequences_len = [];\n",
    "    \n",
    "    for i in range(len(dataset_examples)):\n",
    "        sequences_len.append(len(dataset_examples[i]));\n",
    "        \n",
    "    return torch.tensor(sequences_len);"
   ]
  },
  {
   "cell_type": "markdown",
   "id": "0e9331b9",
   "metadata": {},
   "source": [
    "DATASET SIZE"
   ]
  },
  {
   "cell_type": "code",
   "execution_count": 341,
   "id": "970a1504",
   "metadata": {},
   "outputs": [
    {
     "name": "stdout",
     "output_type": "stream",
     "text": [
      "315680\n"
     ]
    }
   ],
   "source": [
    "if load_datasets == False:\n",
    "    print(len(en_examples))"
   ]
  },
  {
   "cell_type": "markdown",
   "id": "f327a87f",
   "metadata": {},
   "source": [
    "ENGLISH SEQUENCES LENGTH HISTOGRAM"
   ]
  },
  {
   "cell_type": "code",
   "execution_count": 342,
   "id": "6983bcdf",
   "metadata": {},
   "outputs": [
    {
     "data": {
      "image/png": "[encoded data removed]",
      "text/plain": [
       "<Figure size 640x480 with 1 Axes>"
      ]
     },
     "metadata": {},
     "output_type": "display_data"
    }
   ],
   "source": [
    "if load_datasets == False:\n",
    "    en_examples_length = sequencesLen(en_examples);\n",
    "\n",
    "    plt.hist(en_examples_length, [1,5,10,15,20,25,30]);"
   ]
  },
  {
   "cell_type": "markdown",
   "id": "190563fe",
   "metadata": {},
   "source": [
    "FRENCH SEQUENCES LENGTH HISTOGRAM"
   ]
  },
  {
   "cell_type": "code",
   "execution_count": 343,
   "id": "173764d6",
   "metadata": {},
   "outputs": [
    {
     "data": {
      "image/png": "[encoded data removed]",
      "text/plain": [
       "<Figure size 640x480 with 1 Axes>"
      ]
     },
     "metadata": {},
     "output_type": "display_data"
    }
   ],
   "source": [
    "if load_datasets == False:\n",
    "    fr_examples_length = sequencesLen(fr_examples);\n",
    "\n",
    "    plt.hist(fr_examples_length, [1,5,10,15,20,25,30]);"
   ]
  },
  {
   "attachments": {},
   "cell_type": "markdown",
   "id": "8739b6dc",
   "metadata": {},
   "source": [
    "Note: These statistics inform me on the ideal groups (see datasets(...) below) for training efficiency. \n",
    "(i.e. avoiding that a short sequence is padded against the longest sequence in the dataset. First, this unnecessarily increases training resources and second, it hurts the signal-to-noise ratio.);"
   ]
  },
  {
   "cell_type": "markdown",
   "id": "8f8fa037",
   "metadata": {},
   "source": [
    "***\n",
    "### *VOCAB*"
   ]
  },
  {
   "cell_type": "code",
   "execution_count": 344,
   "id": "0bf5a993",
   "metadata": {},
   "outputs": [],
   "source": [
    "class Vocab:\n",
    "    def __init__(self, dataset2d):\n",
    "        self.token_to_idx = {};\n",
    "        self.idx_to_token = [];\n",
    "        self.initVocab(dataset2d);\n",
    "        \n",
    "    def initVocab(self, dataset2d):\n",
    "        token_freq = collections.Counter(\n",
    "            [dataset2d[i][j] for i in range(len(dataset2d)) for j in range(len(dataset2d[i]))]);\n",
    "        token_freq = token_freq.most_common();\n",
    "  \n",
    "        for i in range(len(token_freq)):\n",
    "            self.token_to_idx[token_freq[i][0]] = i;\n",
    "            self.idx_to_token.append(token_freq[i][0]);\n",
    "             \n",
    "    def tokenToIdx(self, dataset2d):\n",
    "        for i in range(len(dataset2d)):\n",
    "            dataset2d_irow = [];\n",
    "            for j in range(len(dataset2d[i])):\n",
    "                current_token = dataset2d[i][j];\n",
    "\n",
    "                if current_token not in self.idx_to_token:\n",
    "                    dataset2d_irow.append(self.token_to_idx['<special_begin>'])\n",
    "                    for token in current_token:\n",
    "                        if token not in self.idx_to_token:\n",
    "                            dataset2d_irow.append(self.token_to_idx['<ukn>']);\n",
    "                        else:\n",
    "                            dataset2d_irow.append(self.token_to_idx[token]);\n",
    "                    dataset2d_irow.append(self.token_to_idx['<special_end>'])\n",
    "                else:\n",
    "                    dataset2d_irow.append(self.token_to_idx[current_token]);\n",
    "\n",
    "            dataset2d[i] = dataset2d_irow;\n",
    "                    \n",
    "        return torch.tensor(dataset2d);\n",
    "\n",
    "    def idxToToken(self, dataset2d):\n",
    "        dataset2d = dataset2d.tolist();\n",
    "        \n",
    "        for i in range(len(dataset2d)):\n",
    "            for j in range(len(dataset2d[i])):\n",
    "                dataset2d[i][j] = self.idx_to_token[dataset2d[i][j]];\n",
    "        return dataset2d;\n",
    "\n",
    "    def expandVocab(self, dataset2d):\n",
    "        token_freq = collections.Counter(\n",
    "            [dataset2d[i][j] for i in range(len(dataset2d)) for j in range(len(dataset2d[i]))]);\n",
    "        token_freq = token_freq.most_common();\n",
    "  \n",
    "        for i in range(len(token_freq)):\n",
    "            if token_freq[i][0] not in self.idx_to_token:\n",
    "                self.token_to_idx[token_freq[i][0]] = len(self.idx_to_token);\n",
    "                self.idx_to_token.append(token_freq[i][0]);\n",
    "    \n",
    "    def __len__(self):\n",
    "        return len(self.idx_to_token);"
   ]
  },
  {
   "cell_type": "markdown",
   "id": "5cb29e61",
   "metadata": {},
   "source": [
    "***\n",
    "### *DATASETS TRAIN/TEST AND THEIR RESPECTIVE VOCABULARY*"
   ]
  },
  {
   "cell_type": "code",
   "execution_count": 345,
   "id": "df1dcf45",
   "metadata": {},
   "outputs": [],
   "source": [
    "def dataLoader(batch_size, shuffle, *tensors):\n",
    "    TD = torch.utils.data.TensorDataset(*tensors);\n",
    "    return torch.utils.data.DataLoader(TD, batch_size, shuffle);"
   ]
  },
  {
   "cell_type": "code",
   "execution_count": 346,
   "id": "53bf0653",
   "metadata": {},
   "outputs": [],
   "source": [
    "## Determine the longest sequence among dataset_examples \n",
    "## and complete the other sequences with the <pad> token so that their length matches the longest.\n",
    "\n",
    "def padding(dataset_examples):\n",
    "    \n",
    "    max_length = 0;\n",
    "\n",
    "    def maxLength(dataset, max_length):\n",
    "        for i in range(len(dataset)):\n",
    "            if len(dataset[i]) > max_length:\n",
    "                max_length = len(dataset[i]);\n",
    "        return max_length;\n",
    "                \n",
    "    max_length = maxLength(dataset_examples, max_length);\n",
    "    \n",
    "    def pad(dataset, max_length):\n",
    "        for i in range(len(dataset)):\n",
    "            if len(dataset[i]) < max_length:\n",
    "                dataset[i] += ['<pad>']*(max_length-len(dataset[i]));\n",
    "        return dataset;\n",
    "    \n",
    "    dataset_examples = pad(dataset_examples, max_length);\n",
    "                \n",
    "    return dataset_examples;"
   ]
  },
  {
   "cell_type": "code",
   "execution_count": 347,
   "id": "f576a2c8",
   "metadata": {},
   "outputs": [],
   "source": [
    "# def datasets(source_examples, target_examples, dataset_train_size, dataset_test_size, \n",
    "#              batch_size_train, batch_size_test):\n",
    "    \n",
    "#     source_examples = copy.deepcopy(source_examples);\n",
    "#     target_examples = copy.deepcopy(target_examples);\n",
    "    \n",
    "#     ## The document \"en_fra.txt\" provides examples in ascending order of the number of tokens.\n",
    "#     ## So before delineating my training/test datasets, randomize the order of the examples,\n",
    "#     ## in order to maximize the heterogeneity in both.\n",
    "#     random_indexation = torch.randperm(dataset_train_size + dataset_test_size);\n",
    "    \n",
    "#     source_examples = source_examples[0:dataset_train_size+dataset_test_size];\n",
    "#     source_examples = [source_examples[random_indexation[i]] for i in range(len(random_indexation))];\n",
    "#     target_examples = target_examples[0:dataset_train_size+dataset_test_size];\n",
    "#     target_examples = [target_examples[random_indexation[i]] for i in range(len(random_indexation))];\n",
    "\n",
    "#     ## source_seq_len[i] = the number of tokens of sequence i (before padding).\n",
    "#     ## The importance of these quantities lies in the calculation of the context variable C in the encoder.\n",
    "#     source_seq_len = sequencesLen(source_examples);\n",
    "#     source_seq_len_train = source_seq_len[0:dataset_train_size];\n",
    "#     source_seq_len_test = source_seq_len[dataset_train_size:dataset_train_size+dataset_test_size];\n",
    "    \n",
    "#     source_examples = padding(source_examples);\n",
    "#     target_examples = padding(target_examples);\n",
    "\n",
    "#     source_vocab = Vocab(source_examples);\n",
    "#     source_examples = source_vocab.tokenToIdx(source_examples);\n",
    "#     target_vocab = Vocab(target_examples);\n",
    "#     target_examples = target_vocab.tokenToIdx(target_examples);\n",
    "\n",
    "#     ds_src_train = source_examples[0:dataset_train_size];\n",
    "#     ds_trg_train_in = target_examples[0:dataset_train_size][:,:-1];\n",
    "#     ds_trg_train_out = target_examples[0:dataset_train_size][:,1:];\n",
    "#     datasets_train = dataLoader(batch_size_train, True, ds_src_train, source_seq_len_train, \n",
    "#                                 ds_trg_train_in, ds_trg_train_out); \n",
    "    \n",
    "#     ds_src_test = source_examples[dataset_train_size:dataset_train_size+dataset_test_size];\n",
    "#     ds_trg_test_out = target_examples[dataset_train_size:dataset_train_size+dataset_test_size][:,1:];\n",
    "#     datasets_test = dataLoader(batch_size_test, False, ds_src_test, source_seq_len_test, ds_trg_test_out);\n",
    "    \n",
    "#     return datasets_train, datasets_test, source_vocab, target_vocab;"
   ]
  },
  {
   "cell_type": "code",
   "execution_count": 348,
   "id": "3ad39801",
   "metadata": {},
   "outputs": [],
   "source": [
    "# dataset_train_size = 500;\n",
    "# dataset_test_size = 10;\n",
    "# batch_size_train = 500;\n",
    "# batch_size_test = 10;\n",
    "\n",
    "# datasets_train, datasets_test, source_vocab, target_vocab = datasets(en_examples, \n",
    "#                                                                      fr_examples, \n",
    "#                                                                      dataset_train_size, \n",
    "#                                                                      dataset_test_size, \n",
    "#                                                                      batch_size_train, \n",
    "#                                                                      batch_size_test);\n"
   ]
  },
  {
   "cell_type": "code",
   "execution_count": 349,
   "id": "9074ad8a",
   "metadata": {},
   "outputs": [],
   "source": [
    "# groups is a list of int, it is the list that determines the different dataset groups according to the sequences length;\n",
    "# e.g. if groups = [5,10,15,20,25] then the following groups will be made:\n",
    "# (0,5], (5,10], (10, 15], (15, 20], (20, 25].\n",
    "#\n",
    "# Assumptions: groups = [g1,g2,g3,...,gG];\n",
    "# g1,g2,g3,...,gG > 0;\n",
    "# g1<g2<g3<...<gG;\n",
    "\n",
    "# The group_maker can takes the value 1 or 2 and is the parameter that determines\n",
    "# from which datasets: source_examples (1) or target_examples (2) we make the groups. \n",
    "\n",
    "def datasets(source_examples, target_examples, groups, group_maker, batch_size_train):\n",
    "\n",
    "    source_examples_groups, target_examples_groups = [], [];\n",
    "\n",
    "    ## DEV # \n",
    "    ## facilitates the development of the datasets(...) function because it avoids directly modifying \n",
    "    ## the memory space of source_examples and target_examples and therefore it avoids having \n",
    "    ## to restart the whole notebook in order to reset the datasets before calling the datasets(...) function again.\n",
    "    if dev_mode: \n",
    "        source_examples = copy.deepcopy(source_examples);\n",
    "        target_examples = copy.deepcopy(target_examples);\n",
    "\n",
    "    # CHECKS GROUPS ASSUMPTIONS\n",
    "    if min(groups) < 0:\n",
    "        raise ValueError(\"groups elements must be positive\");\n",
    "    groups.sort();\n",
    "\n",
    "    if group_maker == 1:\n",
    "        examples_len = sequencesLen(source_examples);\n",
    "    else:\n",
    "        examples_len = sequencesLen(target_examples);\n",
    "\n",
    "    # CREATE GROUPS\n",
    "    for i in range(len(groups)):\n",
    "        group_lower_bound = 0 if i == 0 else groups[i-1];\n",
    "        group_upper_bound = groups[i];\n",
    "\n",
    "        lower_bound_true = group_lower_bound < examples_len;\n",
    "        upper_bound_true = examples_len <= group_upper_bound;\n",
    "\n",
    "        lower_upper_bound_true_indices = (lower_bound_true & upper_bound_true).nonzero(as_tuple=True)[0];\n",
    "\n",
    "        source_examples_group = list(source_examples[i] for i in lower_upper_bound_true_indices);\n",
    "        target_examples_group = list(target_examples[i] for i in lower_upper_bound_true_indices);\n",
    "\n",
    "        source_examples_groups.append(source_examples_group);\n",
    "        target_examples_groups.append(target_examples_group);\n",
    "\n",
    "    number_groups = len(source_examples_groups);\n",
    "\n",
    "\n",
    "    # SOURCE SEQUENCES LENGTH\n",
    "    source_seq_len = [];\n",
    "    for i in range(number_groups):\n",
    "        source_seq_len.append(sequencesLen(source_examples_groups[i]));\n",
    "\n",
    "    # PADDING \n",
    "    for i in range(number_groups):\n",
    "        source_examples_groups[i] = padding(source_examples_groups[i]);\n",
    "        target_examples_groups[i] = padding(target_examples_groups[i]);\n",
    "\n",
    "\n",
    "    # CREATE VOCAB\n",
    "    for i in range(number_groups):\n",
    "        if i == 0:\n",
    "            source_vocab = Vocab(source_examples_groups[i])\n",
    "            target_vocab = Vocab(target_examples_groups[i]);\n",
    "        else:\n",
    "            source_vocab.expandVocab(source_examples_groups[i]);\n",
    "            target_vocab.expandVocab(target_examples_groups[i]);\n",
    "\n",
    "    # TOKEN TO INDEX\n",
    "    for i in range(number_groups):\n",
    "        source_examples_groups[i] = source_vocab.tokenToIdx(source_examples_groups[i]);\n",
    "        target_examples_groups[i] = target_vocab.tokenToIdx(target_examples_groups[i]);\n",
    "\n",
    "    \n",
    "    # TRAIN DATASETS\n",
    "    datasets_train = [];\n",
    "\n",
    "    for i in range(number_groups):\n",
    "        if len(source_examples_groups[i]) == 0:\n",
    "            continue;\n",
    "\n",
    "        src_train = source_examples_groups[i];\n",
    "        src_seq_len_train = source_seq_len[i];\n",
    "\n",
    "        trg_train_in = target_examples_groups[i][:,:-1];\n",
    "        trg_train_out = target_examples_groups[i][:,1:];\n",
    "\n",
    "        datasets_train.append(dataLoader(batch_size_train, True, src_train, src_seq_len_train, trg_train_in, trg_train_out));\n",
    "\n",
    "    \n",
    "    return datasets_train, source_vocab, target_vocab;"
   ]
  },
  {
   "cell_type": "code",
   "execution_count": 350,
   "id": "2f17e2ca",
   "metadata": {},
   "outputs": [],
   "source": [
    "if en_to_fr:\n",
    "    if dev_mode:\n",
    "        # datasets_train, source_vocab, target_vocab = datasets(en_examples[0:250], fr_examples[0:250], [5,10,15,20,25], 1, 250);\n",
    "        datasets_train, source_vocab, target_vocab = datasets(en_examples, fr_examples, [5,10,15,20,25], 1, 250);\n",
    "\n",
    "\n",
    "    if prod_mode or hyperparameters_optimization_mode or inference_mode:\n",
    "        if load_datasets:\n",
    "            with open(\"../saved_objects/datasets_object_enfr.pkl\", 'rb') as f:\n",
    "                datasets_train, source_vocab, target_vocab = pickle.load(f);\n",
    "            \n",
    "        else:\n",
    "            datasets_train, source_vocab, target_vocab = datasets(en_examples, fr_examples, [5,10,15,20,25], 1, 1024);\n",
    "            with open(\"../saved_objects/datasets_object_enfr.pkl\", 'wb') as f:\n",
    "                pickle.dump((datasets_train, source_vocab, target_vocab), f, pickle.HIGHEST_PROTOCOL);\n",
    "\n",
    "\n",
    "else:\n",
    "    if dev_mode:\n",
    "        datasets_train, source_vocab, target_vocab = datasets(fr_examples[0:250], en_examples[0:250], [5,10,15,20,25], 1, 250);\n",
    "\n",
    "    if prod_mode or hyperparameters_optimization_mode or inference_mode:\n",
    "        if load_datasets:\n",
    "            with open(\"../saved_objects/datasets_object_fren.pkl\", 'rb') as f:\n",
    "                datasets_train, source_vocab, target_vocab = pickle.load(f);\n",
    "            \n",
    "        else:\n",
    "            datasets_train, source_vocab, target_vocab = datasets(fr_examples, en_examples, [5,10,15,20,25], 1, 1024);\n",
    "            with open(\"../saved_objects/datasets_object_fren.pkl\", 'wb') as f:\n",
    "                pickle.dump((datasets_train, source_vocab, target_vocab), f, pickle.HIGHEST_PROTOCOL);"
   ]
  },
  {
   "cell_type": "code",
   "execution_count": 351,
   "id": "bf6df876",
   "metadata": {},
   "outputs": [
    {
     "data": {
      "text/plain": [
       "(21019, 31544)"
      ]
     },
     "execution_count": 351,
     "metadata": {},
     "output_type": "execute_result"
    }
   ],
   "source": [
    "len(source_vocab), len(target_vocab)"
   ]
  },
  {
   "cell_type": "markdown",
   "id": "237198df",
   "metadata": {},
   "source": [
    "Dump source_vocab and target_vocab in a pickle file in order to use them in production"
   ]
  },
  {
   "cell_type": "code",
   "execution_count": 352,
   "id": "a7dde436",
   "metadata": {},
   "outputs": [],
   "source": [
    "if load_datasets == False:\n",
    "    if en_to_fr:\n",
    "        with open(\"../saved_objects/vocabs_en_to_fr.pkl\", 'wb') as f:\n",
    "            pickle.dump(source_vocab, f, pickle.HIGHEST_PROTOCOL);\n",
    "            pickle.dump(target_vocab, f, pickle.HIGHEST_PROTOCOL);\n",
    "    else:\n",
    "        with open(\"../saved_objects/vocabs_fr_to_en.pkl\", 'wb') as f:\n",
    "            pickle.dump(source_vocab, f, pickle.HIGHEST_PROTOCOL);\n",
    "            pickle.dump(target_vocab, f, pickle.HIGHEST_PROTOCOL);"
   ]
  },
  {
   "cell_type": "markdown",
   "id": "a5fb287b",
   "metadata": {},
   "source": [
    "***\n",
    "### *COMPUTATIONAL DEVICE*"
   ]
  },
  {
   "cell_type": "code",
   "execution_count": 353,
   "id": "d98e4fc7",
   "metadata": {},
   "outputs": [
    {
     "name": "stdout",
     "output_type": "stream",
     "text": [
      "DEVICE :  cpu\n"
     ]
    }
   ],
   "source": [
    "device = torch.device('cuda' if torch.cuda.is_available() else 'cpu');\n",
    "\n",
    "print(\"DEVICE : \", device);"
   ]
  },
  {
   "cell_type": "markdown",
   "id": "f7135f26",
   "metadata": {},
   "source": [
    "***\n",
    "### *ATTENTION*\n",
    "\n",
    "***\n",
    "Note: The implementation of Multi-Head Attention below follows the implementation of the paper \"Attention Is All You Need\" while the schema in the notebook [MultiHeadAttention_ch11](https://github.com/Excelsior7/DIVEINTODEEPLEARNING/blob/main/Attention_mechanisms/MultiHeadAttention_ch11.md) follows the implementation of the book \"Dive Into Deep Learning\".\n",
    "\n",
    "*In the first case* : \n",
    "Queries, Keys and Values are multiplied by a weight matrix WQi, WKi, WVi, respectively in the case of the ith head. (See image below for more details)\n",
    "\n",
    "*In the second case*:\n",
    "Queries, Keys and Values are multiplied by a weight matrix WQ, WK, WV, respectively. Following this transformation, Queries, Keys and Values will each be split into several parts (the same number of parts: **num_heads**), along the last dimension (dim=-1). The ith part of Queries, the ith part of Keys and the ith part of Values will form the ith head\n",
    "(see [MultiHeadAttention_ch11](https://github.com/Excelsior7/DIVEINTODEEPLEARNING/blob/main/Attention_mechanisms/MultiHeadAttention_ch11.md))\n",
    "***\n",
    "\n",
    "![png](../../../plots/Transformer_fig1.png) \n",
    "\n",
    "\"Multi-head attention allows the model to jointly attend to information from different representation\n",
    "subspaces at different positions. With a single attention head, averaging inhibits this.\" - page 5.\n",
    "\n",
    "source : https://arxiv.org/abs/1706.03762?context=cs"
   ]
  },
  {
   "cell_type": "code",
   "execution_count": 354,
   "id": "296d73f1",
   "metadata": {},
   "outputs": [],
   "source": [
    "def maskedSoftmax(QK, source_seq_len, mask):\n",
    "    # QK.shape = (batch_size, num_steps, num_steps)\n",
    "    \n",
    "    QK_shape = QK.shape;\n",
    "    \n",
    "    if mask is True:\n",
    "        mask_to_apply = ~(torch.arange(0,QK_shape[1])[None,:] < torch.arange(1,QK_shape[1]+1)[:,None]);\n",
    "        mask_to_apply = mask_to_apply.unsqueeze(dim=0).repeat(QK_shape[0],1,1);\n",
    "        \n",
    "        QK[mask_to_apply] = -1e6;\n",
    "    \n",
    "    if source_seq_len is not None:\n",
    "        steps = torch.arange(1, QK_shape[1]+1).unsqueeze(dim=0).repeat(QK_shape[1],1).unsqueeze(dim=0).repeat(QK_shape[0], 1, 1).to(device);\n",
    "        valid_len = source_seq_len.unsqueeze(dim=1).unsqueeze(dim=1).repeat_interleave(repeats=QK_shape[1], dim=1);\n",
    "        padding_mask = steps > valid_len;\n",
    "        \n",
    "        QK[padding_mask] = -1e6;\n",
    "    \n",
    "    return nn.functional.softmax(QK, dim=-1);"
   ]
  },
  {
   "cell_type": "code",
   "execution_count": 355,
   "id": "b308dc5b",
   "metadata": {},
   "outputs": [],
   "source": [
    "def scaledDotProductAttention(Q, K, V, dk, source_seq_len, mask):\n",
    "    QK = torch.bmm(Q,K.transpose(1,2)) / math.sqrt(dk);\n",
    "    \n",
    "    return torch.bmm(maskedSoftmax(QK, source_seq_len, mask), V);"
   ]
  },
  {
   "cell_type": "code",
   "execution_count": 356,
   "id": "258465ec",
   "metadata": {},
   "outputs": [],
   "source": [
    "class MultiHeadAttention(nn.Module):\n",
    "    def __init__(self, num_heads, dk, dv, dmodel):\n",
    "        super().__init__();\n",
    "        \n",
    "        self.num_heads = num_heads;\n",
    "        self.dk = dk;\n",
    "        \n",
    "        self.weights_params = nn.ModuleList();\n",
    "        for i in range(num_heads):\n",
    "            WQi = nn.Linear(dmodel,dk);\n",
    "            WKi = nn.Linear(dmodel,dk);\n",
    "            WVi = nn.Linear(dmodel,dv);\n",
    "\n",
    "            weights = nn.ModuleList([WQi,WKi,WVi]);\n",
    "            self.weights_params.append(weights);\n",
    "            \n",
    "        self.WO = nn.Linear(num_heads*dv,dmodel);\n",
    "    \n",
    "    def forward(self, queries, keys, values, source_seq_len=None, mask=False):\n",
    "        # (queries|keys|values).shape = (batch_size, num_steps, dmodel)\n",
    "        \n",
    "        heads = [];\n",
    "        \n",
    "        for i in range(self.num_heads):\n",
    "            WQi, WKi, WVi = self.weights_params[i];\n",
    "            \n",
    "            # ith head shape = (batch_size, num_steps, dv)\n",
    "            heads.append(\n",
    "                scaledDotProductAttention(WQi(queries), WKi(keys), WVi(values), self.dk, source_seq_len, mask));\n",
    "        \n",
    "        # heads.shape = (batch_size, num_steps, num_heads*dv)\n",
    "        heads = torch.cat(heads, dim=-1);\n",
    "        \n",
    "        return self.WO(heads);"
   ]
  },
  {
   "cell_type": "markdown",
   "id": "fe178b58",
   "metadata": {},
   "source": [
    "***\n",
    "### *POSITION-WISE FEED FORWARD NETWORKS*"
   ]
  },
  {
   "cell_type": "code",
   "execution_count": 357,
   "id": "f918d93a",
   "metadata": {},
   "outputs": [],
   "source": [
    "class FFN(nn.Module):\n",
    "    def __init__(self, dmodel, dff):\n",
    "        super().__init__();\n",
    "        \n",
    "        self.W1 = nn.Linear(dmodel,dff);\n",
    "        self.W2 = nn.Linear(dff,dmodel);\n",
    "        self.relu = nn.ReLU();\n",
    "        \n",
    "    def forward(self, X):\n",
    "        # X.shape = (batch_size, num_steps, dmodel)\n",
    "        \n",
    "        return self.W2(self.relu(self.W1(X)));"
   ]
  },
  {
   "cell_type": "markdown",
   "id": "de32c508",
   "metadata": {},
   "source": [
    "***\n",
    "### *RESIDUALS*\n",
    "\n",
    "\"And so what has happened was these residuals were carrying position information to every layer.\" - Ashish Vaswani\n",
    "\n",
    "source : https://www.youtube.com/watch?v=5vcj8kSwBCY&t=1110s [Importance of Residuals (19:30 - 20:45)]"
   ]
  },
  {
   "cell_type": "code",
   "execution_count": 358,
   "id": "4d47b456",
   "metadata": {},
   "outputs": [],
   "source": [
    "class AddandNorm(nn.Module):\n",
    "    def __init__(self, dmodel, dropout=0):\n",
    "        super().__init__();\n",
    "        \n",
    "        self.LN = nn.LayerNorm(dmodel);\n",
    "        self.dropout = nn.Dropout(dropout);\n",
    "    \n",
    "    def forward(self, X, Y):\n",
    "        # (X|Y).shape = (batch_size, num_steps, dmodel)\n",
    "\n",
    "        return self.LN(X + self.dropout(Y));"
   ]
  },
  {
   "cell_type": "markdown",
   "id": "742b2103",
   "metadata": {},
   "source": [
    "***\n",
    "### *POSITIONAL ENCODING*\n",
    "\n",
    "![png](../../../plots/Transformer_fig2.png)\n",
    "\n",
    "source : https://kazemnejad.com/blog/transformer_architecture_positional_encoding/"
   ]
  },
  {
   "cell_type": "code",
   "execution_count": 359,
   "id": "80f30bf4",
   "metadata": {},
   "outputs": [],
   "source": [
    "class PositionalEncoding(nn.Module):\n",
    "    def __init__(self, dmodel, dropout, max_seq_len=1000):\n",
    "        super().__init__();\n",
    "        \n",
    "        # It is possible that dmodel is odd but this makes the code more complex without adding value.\n",
    "        assert dmodel % 2 == 0, \"dmodel must be even\";\n",
    "        \n",
    "        self.dropout = nn.Dropout(dropout);\n",
    "        \n",
    "        # t.shape = (max_seq_len, dmodel/2)\n",
    "        t = torch.arange(0,max_seq_len).unsqueeze(dim=1).repeat_interleave(repeats=int(dmodel/2),dim=1);\n",
    "        # w.shape = (max_seq_len, dmodel/2)\n",
    "        wk = 1/torch.pow(10000, torch.arange(0,dmodel,step=2)/dmodel).unsqueeze(dim=0);\n",
    "        wk = wk.repeat_interleave(repeats=max_seq_len,dim=0);\n",
    "        \n",
    "        # pos_encoding.shape = (max_seq_len, dmodel)\n",
    "        self.pos_encoding = torch.zeros(max_seq_len, dmodel);\n",
    "        self.pos_encoding[:,0::2] = torch.sin(wk*t);\n",
    "        self.pos_encoding[:,1::2] = torch.cos(wk*t);\n",
    "\n",
    "        self.pos_encoding = self.pos_encoding.to(device);\n",
    "\n",
    "    def forward(self, X):\n",
    "        # X.shape = (batch_size, num_steps, dmodel)\n",
    "        X_shape = X.shape;\n",
    "        \n",
    "        pos_encoding = self.pos_encoding[:X_shape[1],:].unsqueeze(dim=0).repeat(X.shape[0],1,1);\n",
    "        \n",
    "        return self.dropout(pos_encoding + X);"
   ]
  },
  {
   "cell_type": "code",
   "execution_count": 360,
   "id": "f377a8d4",
   "metadata": {},
   "outputs": [
    {
     "data": {
      "image/png": "[encoded data removed]",
      "text/plain": [
       "<Figure size 640x480 with 1 Axes>"
      ]
     },
     "metadata": {},
     "output_type": "display_data"
    }
   ],
   "source": [
    "pe = PositionalEncoding(dmodel=120,dropout=0,max_seq_len=50).pos_encoding;\n",
    "plt.imshow(pe.cpu());\n",
    "plt.xlabel(\"embedding dimension\");\n",
    "plt.ylabel(\"position\");\n",
    "plt.show();"
   ]
  },
  {
   "cell_type": "markdown",
   "id": "108a922c",
   "metadata": {},
   "source": [
    "***\n",
    "### *ENCODER-DECODER MODEL*\n",
    "\n",
    "Note: \n",
    "In the \"def datasets\" function, I call the \"def padding\" function for sources_examples and target_examples independently, and what results is that \"num_steps\" can vary in src_X (built on sources_examples) versus bos_X (built on target_examples).\n",
    "\n",
    "**ENCODER**"
   ]
  },
  {
   "cell_type": "code",
   "execution_count": 361,
   "id": "3d28ee6b",
   "metadata": {},
   "outputs": [],
   "source": [
    "class EncoderBlock(nn.Module):\n",
    "    def __init__(self, num_heads, dmodel, dk, dv, dff, dropout):\n",
    "        super().__init__();\n",
    "        \n",
    "        self.MHA = MultiHeadAttention(num_heads, dk, dv, dmodel);\n",
    "        self.AAN = AddandNorm(dmodel, dropout);\n",
    "        self.FFN = FFN(dmodel, dff);\n",
    "\n",
    "    def forward(self, X, source_seq_len):\n",
    "        # sli_out.shape = (batch_size, number of steps in src_X, dmodel)\n",
    "        # sli stands for the ith sublayer of the encoder block.\n",
    "        \n",
    "        sl1_out = self.MHA(X, X, X, source_seq_len);\n",
    "        sl1_out = self.AAN(X, sl1_out);\n",
    "        \n",
    "        sl2_out = self.FFN(sl1_out)\n",
    "        sl2_out = self.AAN(sl1_out, sl2_out);\n",
    "        \n",
    "        return sl2_out;"
   ]
  },
  {
   "cell_type": "code",
   "execution_count": 362,
   "id": "495a1e43",
   "metadata": {},
   "outputs": [],
   "source": [
    "class Encoder(nn.Module):\n",
    "    def __init__(self, vocab_size, num_blocks, num_heads, dmodel, dk, dv, dff, dropout, max_seq_len=1000):\n",
    "        super().__init__();\n",
    "        \n",
    "        self.num_blocks = num_blocks;\n",
    "        self.embedding = nn.Embedding(vocab_size, dmodel);\n",
    "        self.pencoding = PositionalEncoding(dmodel, dropout, max_seq_len);\n",
    "        \n",
    "        self.encoder_blocks = nn.ModuleList();\n",
    "        for _ in range(num_blocks):\n",
    "            self.encoder_blocks.append(EncoderBlock(num_heads, dmodel, dk, dv, dff, dropout));\n",
    "\n",
    "    def forward(self, src_X, source_seq_len_train):\n",
    "        \n",
    "        # X.shape = (batch_size, number of steps in src_X, dmodel)\n",
    "        X = self.pencoding(self.embedding(src_X));\n",
    "\n",
    "        for i in range(self.num_blocks):\n",
    "            X = self.encoder_blocks[i](X, source_seq_len_train);\n",
    "            \n",
    "        return X;"
   ]
  },
  {
   "cell_type": "markdown",
   "id": "911852b2",
   "metadata": {},
   "source": [
    "**DECODER**"
   ]
  },
  {
   "cell_type": "code",
   "execution_count": 363,
   "id": "1a3c5b98",
   "metadata": {},
   "outputs": [],
   "source": [
    "class DecoderBlock(nn.Module):\n",
    "    def __init__(self, num_heads, dmodel, dk, dv, dff, dropout):\n",
    "        super().__init__();\n",
    "        \n",
    "        self.MHA1 = MultiHeadAttention(num_heads, dk, dv, dmodel);\n",
    "        self.MHA2 = MultiHeadAttention(num_heads, dk, dv, dmodel);\n",
    "        self.AAN = AddandNorm(dmodel, dropout);\n",
    "        self.FFN = FFN(dmodel, dff);\n",
    "        \n",
    "    def forward(self, X, enc_output, mask=False):\n",
    "        # X.shape = (batch_size, number of steps in bos_X, dmodel)\n",
    "        # enc_output.shape = (batch_size, number of steps in src_X, dmodel)\n",
    "        \n",
    "        # sli_out.shape = (batch_size, number of steps in bos_X, dmodel)\n",
    "        # sli stands for the ith sublayer of the decoder block.\n",
    "        \n",
    "        sl1_out = self.MHA1(X, X, X, None, mask);\n",
    "        sl1_out = self.AAN(X, sl1_out);\n",
    "        \n",
    "        sl2_out = self.MHA2(sl1_out, enc_output, enc_output);\n",
    "        sl2_out = self.AAN(sl1_out, sl2_out);\n",
    "        \n",
    "        sl3_out = self.FFN(sl2_out);\n",
    "        sl3_out = self.AAN(sl2_out, sl3_out);\n",
    "        \n",
    "        return sl3_out; "
   ]
  },
  {
   "cell_type": "code",
   "execution_count": 364,
   "id": "bad4c399",
   "metadata": {},
   "outputs": [],
   "source": [
    "class Decoder(nn.Module):\n",
    "    def __init__(self, vocab_size, num_blocks, num_heads, dmodel, dk, dv, dff, dropout, max_seq_len=1000):\n",
    "        super().__init__();\n",
    "        \n",
    "        self.num_blocks = num_blocks;\n",
    "        self.embedding = nn.Embedding(vocab_size, dmodel);\n",
    "        self.pencoding = PositionalEncoding(dmodel, dropout, max_seq_len);\n",
    "        \n",
    "        self.W_out = nn.Linear(dmodel, vocab_size);\n",
    "        \n",
    "        self.decoder_blocks = nn.ModuleList();\n",
    "        for _ in range(num_blocks):\n",
    "            self.decoder_blocks.append(DecoderBlock(num_heads, dmodel, dk, dv, dff, dropout));\n",
    "        \n",
    "    def forward(self, bos_X, enc_output):\n",
    "        \n",
    "        # X.shape = (batch_size, number of steps in bos_X, dmodel)\n",
    "        X = self.pencoding(self.embedding(bos_X));\n",
    "        \n",
    "        mask = True if self.training else False;\n",
    "        \n",
    "        for i in range(self.num_blocks):\n",
    "            X = self.decoder_blocks[i](X, enc_output, mask);\n",
    "            \n",
    "        return self.W_out(X);"
   ]
  },
  {
   "cell_type": "markdown",
   "id": "f4fd6c73",
   "metadata": {},
   "source": [
    "**ENCODER-DECODER**"
   ]
  },
  {
   "cell_type": "code",
   "execution_count": 365,
   "id": "b3cf3747",
   "metadata": {},
   "outputs": [],
   "source": [
    "class EncoderDecoder(nn.Module):\n",
    "    def __init__(self, encoder, decoder):\n",
    "        super().__init__();\n",
    "        self.encoder = encoder;\n",
    "        self.decoder = decoder;\n",
    "        \n",
    "    def forward(self, src_X, bos_X, source_seq_len):\n",
    "        # src_X.shape = (batch_size, number of steps in src_X)\n",
    "        # bos_X.shape = (batch_size, number of steps in bos_X)\n",
    "\n",
    "        enc_output = self.encoder(src_X, source_seq_len);\n",
    "        Y_hat = self.decoder(bos_X, enc_output);\n",
    "        \n",
    "        return Y_hat;"
   ]
  },
  {
   "cell_type": "markdown",
   "id": "f21421fe",
   "metadata": {},
   "source": [
    "***\n",
    "### *ATTENTION IS ALL YOU NEED SCHEDULER*"
   ]
  },
  {
   "cell_type": "code",
   "execution_count": 366,
   "id": "fef5204e",
   "metadata": {},
   "outputs": [],
   "source": [
    "# class AIAYNScheduler():\n",
    "#     def __init__(self, optimizer, dmodel, warmup_steps):\n",
    "#         self._optimizer = optimizer;\n",
    "#         self._dmodel = dmodel;\n",
    "#         self._warmup_steps = warmup_steps;\n",
    "#         self._num_steps = 0;\n",
    "\n",
    "#     def step(self):\n",
    "#         self._num_steps += 1;\n",
    "#         self._updateLR();\n",
    "\n",
    "#     def _updateLR(self):\n",
    "#         dmodel = self._dmodel;\n",
    "#         ws = self._warmup_steps;\n",
    "#         step = self._num_steps;\n",
    "\n",
    "#         for g in self._optimizer.param_groups:\n",
    "#             g['lr'] = (dmodel ** (-0.5)) * min(step**(-0.5), step * ws**(-1.5));"
   ]
  },
  {
   "cell_type": "markdown",
   "id": "94a72801",
   "metadata": {},
   "source": [
    "***\n",
    "### *MODEL INSTANTIATION AND PARAMETERS LOADING*"
   ]
  },
  {
   "cell_type": "code",
   "execution_count": 367,
   "id": "882c92eb",
   "metadata": {},
   "outputs": [],
   "source": [
    "# ENCODER PARAMETERS\n",
    "source_vocab_size = len(source_vocab);\n",
    "\n",
    "# DECODER PARAMETERS\n",
    "target_vocab_size = len(target_vocab);\n",
    "\n",
    "## Attention is all you need paper hyperparameters on base model:\n",
    "# num_blocks = 6;\n",
    "# num_heads = 8;\n",
    "# dmodel = 512;\n",
    "# dk = dv = 64;\n",
    "# dff = 2048;\n",
    "# dropout = 0.1;\n",
    "\n",
    "## FIRST MODEL INSTANTIATION / TRAIN ON GPU\n",
    "# load_parameters = False;\n",
    "# load_on_cpu = False;\n",
    "\n",
    "## RESUME TRAINING / TRAIN ON GPU\n",
    "# load_parameters = True;\n",
    "# load_on_cpu = False;\n",
    "\n",
    "## INFERENCE ON CPU\n",
    "# load_parameters = True;\n",
    "# load_on_cpu = True;\n",
    "\n",
    "## Note on transfer learning : If transfer learning is desired, call the file that contains the pre-trained model transfer_weights.tar\n",
    "\n",
    "def instantiateModel(num_blocks, num_heads, dmodel, dk, dv, dff, dropout, learning_rate, weight_decay, load_parameters=False, load_on_cpu=False, transfer_learning=False):\n",
    "    if load_parameters:\n",
    "        if load_on_cpu:\n",
    "            if en_to_fr:\n",
    "                checkpoint = torch.load('../saved_objects/parameters_Transformer_en_to_fr.tar', map_location=torch.device('cpu'));\n",
    "            else:\n",
    "                checkpoint = torch.load('../saved_objects/parameters_Transformer_fr_to_en.tar', map_location=torch.device('cpu'));\n",
    "        else:\n",
    "            if en_to_fr:\n",
    "                checkpoint = torch.load('../saved_objects/parameters_Transformer_en_to_fr.tar');\n",
    "            else:\n",
    "                checkpoint = torch.load('../saved_objects/parameters_Transformer_fr_to_en.tar');\n",
    "    \n",
    "    if transfer_learning:\n",
    "      if load_on_cpu:\n",
    "        checkpoint = torch.load('../saved_objects/transfer_weights.tar', map_location=torch.device('cpu'));\n",
    "      else:\n",
    "        checkpoint = torch.load('../saved_objects/transfer_weights.tar');\n",
    "\n",
    "\n",
    "    encoder = Encoder(source_vocab_size, num_blocks, num_heads, dmodel, dk, dv, dff, dropout);\n",
    "    decoder = Decoder(target_vocab_size, num_blocks, num_heads, dmodel, dk, dv, dff, dropout);\n",
    "    model = EncoderDecoder(encoder, decoder);\n",
    "    if load_parameters or transfer_learning:\n",
    "        model.load_state_dict(checkpoint['model_state_dict']);\n",
    "    \n",
    "    if load_on_cpu == False:\n",
    "        model.to(torch.device('cuda'));\n",
    "\n",
    "    optimizer = torch.optim.Adam(model.parameters(), weight_decay=weight_decay, lr=learning_rate);\n",
    "    if load_parameters:\n",
    "        optimizer.load_state_dict(checkpoint['optimizer_state_dict']);\n",
    "\n",
    "    scheduler = torch.optim.lr_scheduler.ReduceLROnPlateau(optimizer, factor=0.5, patience=20, verbose=True);\n",
    "\n",
    "    return model, optimizer, scheduler;"
   ]
  },
  {
   "cell_type": "code",
   "execution_count": 368,
   "id": "be21681d",
   "metadata": {},
   "outputs": [],
   "source": [
    "if dev_mode:\n",
    "  model, optimizer, scheduler = instantiateModel(2,4,128,32,32,64,0.1,0.0004,0, \n",
    "                                                load_parameters=load_parameters, \n",
    "                                                load_on_cpu=load_on_cpu, \n",
    "                                                transfer_learning=transfer_learning);\n",
    "\n",
    "if prod_mode:\n",
    "  model, optimizer, scheduler = instantiateModel(2,6,128,32,32,1024,0.1,0.0004,0.001, \n",
    "                                                load_parameters=load_parameters, \n",
    "                                                load_on_cpu=load_on_cpu, \n",
    "                                                transfer_learning=transfer_learning);"
   ]
  },
  {
   "cell_type": "markdown",
   "id": "9ae3d87a",
   "metadata": {},
   "source": [
    "***\n",
    "### *LOSS*"
   ]
  },
  {
   "cell_type": "code",
   "execution_count": 369,
   "id": "04096611",
   "metadata": {},
   "outputs": [],
   "source": [
    "CEL = nn.CrossEntropyLoss();"
   ]
  },
  {
   "cell_type": "code",
   "execution_count": 370,
   "id": "85408a3c",
   "metadata": {},
   "outputs": [],
   "source": [
    "def loss(Y_hat, Y):\n",
    "\n",
    "    pad_idx = target_vocab.token_to_idx['<pad>'];\n",
    "\n",
    "    Y_hat = Y_hat.reshape(-1, Y_hat.shape[-1]);\n",
    "    Y = Y.flatten();\n",
    "    \n",
    "    is_not_pad = Y != pad_idx;\n",
    "    \n",
    "    Y_hat = Y_hat[is_not_pad];\n",
    "    Y = Y[is_not_pad];\n",
    "\n",
    "    return CEL(Y_hat, Y);"
   ]
  },
  {
   "cell_type": "markdown",
   "id": "c1f4e69e",
   "metadata": {},
   "source": [
    "***\n",
    "### *HYPERPARAMETERS OPTIMIZATION*"
   ]
  },
  {
   "cell_type": "code",
   "execution_count": 371,
   "id": "736308a9",
   "metadata": {},
   "outputs": [],
   "source": [
    "def hyperparametersSpace():\n",
    "\n",
    "    HP_num_blocks = [2,4];\n",
    "    HP_num_heads = [4,6];\n",
    "    HP_dmodel = [128,256];\n",
    "    HP_dk = [32,64];\n",
    "    HP_dff = [512,1024];\n",
    "    HP_dropout = [0.1];\n",
    "    HP_learning_rate = [0.03,0.003];\n",
    "    HP_weight_decay = [0.1,0.01,0.001];\n",
    "\n",
    "    return [HP_num_blocks, HP_num_heads, HP_dmodel, HP_dk, HP_dff, HP_dropout, HP_learning_rate, HP_weight_decay];"
   ]
  },
  {
   "cell_type": "code",
   "execution_count": 372,
   "id": "ddb9e980",
   "metadata": {},
   "outputs": [],
   "source": [
    "def HO(HO_datasets, hyperparameters, loss):\n",
    "\n",
    "  num_epochs = 2;\n",
    "  min_metrics_mean, min_id = 0, math.inf;\n",
    "\n",
    "  for id, h in enumerate(itertools.product(*hyperparameters)):\n",
    "    _num_blocks = h[0];\n",
    "    _num_heads = h[1];\n",
    "    _dmodel = h[2];\n",
    "    _dk = h[3];\n",
    "    _dv = h[3];\n",
    "    _dff = h[4];\n",
    "    _dropout = h[5];\n",
    "    _learning_rate = h[6];\n",
    "    _weight_decay = h[7];\n",
    "\n",
    "    model, optimizer, _ = instantiateModel(_num_blocks,_num_heads,_dmodel,_dk,_dv,_dff,_dropout,_learning_rate,_weight_decay);\n",
    "    model.to(device);\n",
    "    metrics = [];\n",
    "\n",
    "    model.train();\n",
    "    for epoch in range(num_epochs):\n",
    "        for dataset in HO_datasets:\n",
    "            for src_X, source_seq_len_train, bos_X, Y in dataset:\n",
    "\n",
    "              src_X = src_X.to(device);\n",
    "              source_seq_len_train = source_seq_len_train.to(device);\n",
    "              bos_X = bos_X.to(device);\n",
    "              Y = Y.to(device);\n",
    "\n",
    "              l = loss(model(src_X, bos_X, source_seq_len_train), Y);\n",
    "\n",
    "              with torch.no_grad():\n",
    "                  l.backward();\n",
    "                  optimizer.step();\n",
    "                  optimizer.zero_grad();\n",
    "\n",
    "                  if epoch == 1:\n",
    "                    metrics.append(l.item());\n",
    "                    break;\n",
    "\n",
    "    metrics_mean = mean(metrics);\n",
    "    if metrics_mean < min_metrics_mean:\n",
    "      min_metrics_mean = metrics_mean;\n",
    "      min_id = id;\n",
    "\n",
    "    with open(\"../saved_objects/hyperparameters_optimization.txt\", \"a\") as f:\n",
    "      f.write(f\"min_id:{min_id}, num_blocks:{_num_blocks}, num_heads:{_num_heads}, dmodel:{_dmodel}, \");\n",
    "      f.write(f\"_dk:{_dk}, _dv:{_dv}, _dff:{_dff}, \");\n",
    "      f.write(f\"_dropout:{_dropout}, _learning_rate:{_learning_rate}, _weight_decay:{_weight_decay}.\\n\");\n",
    "      f.write(f\"metrics {metrics}.\\n\");\n",
    "      f.write(f\"metrics mean {metrics_mean}.\\n\");\n",
    "      f.write(\"*************************************\\n\");\n",
    "      f.close();"
   ]
  },
  {
   "cell_type": "code",
   "execution_count": 373,
   "id": "6276b17d",
   "metadata": {},
   "outputs": [],
   "source": [
    "if hyperparameters_optimization_mode is True:\n",
    "    hyperparameters = hyperparametersSpace();\n",
    "    HO(datasets_train, hyperparameters, loss);"
   ]
  },
  {
   "cell_type": "markdown",
   "id": "bf0d1aed",
   "metadata": {},
   "source": [
    "***\n",
    "### *TRAINING*"
   ]
  },
  {
   "cell_type": "code",
   "execution_count": 374,
   "id": "1bc36e11",
   "metadata": {},
   "outputs": [],
   "source": [
    "def train(num_epochs, model, datasets_train, loss, optimizer, scheduler, save_params=False, load_parameters=False):\n",
    "\n",
    "  if load_parameters:\n",
    "      if en_to_fr:\n",
    "          checkpoint = torch.load('../saved_objects/parameters_Transformer_en_to_fr.tar');\n",
    "      else:\n",
    "          checkpoint = torch.load('../saved_objects/parameters_Transformer_fr_to_en.tar');\n",
    "\n",
    "      epoch_loss = checkpoint['epoch_loss'];\n",
    "  else:\n",
    "      epoch_loss = [];\n",
    "\n",
    "  model.train();\n",
    "  for epoch in range(num_epochs):\n",
    "    losses = [];\n",
    "    for dataset in datasets_train:\n",
    "        for i, (src_X, source_seq_len_train, bos_X, Y) in enumerate(dataset):\n",
    "\n",
    "            src_X = src_X.to(device);\n",
    "            source_seq_len_train = source_seq_len_train.to(device);\n",
    "            bos_X = bos_X.to(device);\n",
    "            Y = Y.to(device);\n",
    "\n",
    "            l = loss(model(src_X, bos_X, source_seq_len_train), Y);\n",
    "\n",
    "            with torch.no_grad():\n",
    "                l.backward();\n",
    "                optimizer.step();\n",
    "                optimizer.zero_grad();\n",
    "\n",
    "                if i == 0 and epoch % 3 == 0:\n",
    "                    losses.append(l.item());\n",
    "                \n",
    "                if i == 0:\n",
    "                    scheduler.step(l);\n",
    "                    print(f'Training loss {l}');\n",
    "\n",
    "    print(f'Epoch {epoch}');\n",
    "\n",
    "    if epoch % 3 == 0:\n",
    "        epoch_loss.append((epoch, mean(losses)));\n",
    "\n",
    "        if save_params and en_to_fr:\n",
    "            torch.save({'model_state_dict':model.state_dict(),\n",
    "                        'optimizer_state_dict':optimizer.state_dict(),\n",
    "                        'epoch_loss':epoch_loss}, '../saved_objects/parameters_Transformer_en_to_fr.tar');\n",
    "        elif save_params:\n",
    "            torch.save({'model_state_dict':model.state_dict(),\n",
    "                        'optimizer_state_dict':optimizer.state_dict(),\n",
    "                        'epoch_loss':epoch_loss}, '../saved_objects/parameters_Transformer_fr_to_en.tar');"
   ]
  },
  {
   "cell_type": "code",
   "execution_count": 375,
   "id": "f6c99ef7",
   "metadata": {},
   "outputs": [],
   "source": [
    "if dev_mode or prod_mode:\n",
    "    t = time.time();\n",
    "\n",
    "    train(100, model, datasets_train, loss, optimizer, scheduler, save_params=save_params, load_parameters=load_parameters);\n",
    "\n",
    "    print(time.time() - t, \" SEC\");"
   ]
  },
  {
   "attachments": {},
   "cell_type": "markdown",
   "id": "54d9b1f0",
   "metadata": {},
   "source": [
    "***\n",
    "### *INFERENCE*"
   ]
  },
  {
   "cell_type": "code",
   "execution_count": 376,
   "id": "b9c168c6",
   "metadata": {},
   "outputs": [],
   "source": [
    "if inference_mode:\n",
    "    model, _, _ = instantiateModel(2,6,128,32,32,1024,0.1,0.003,0.001, load_parameters=load_parameters, load_on_cpu=load_on_cpu);"
   ]
  },
  {
   "cell_type": "code",
   "execution_count": 377,
   "id": "7bad9dd9",
   "metadata": {},
   "outputs": [],
   "source": [
    "def prediction(model,datasets,source_vocab,target_vocab):\n",
    "    \n",
    "    bos_idx = target_vocab.token_to_idx['<bos>'];\n",
    "    eos_idx = target_vocab.token_to_idx['<eos>'];\n",
    "\n",
    "    preds_outputs_src = [];\n",
    "    preds_outputs_y = [];\n",
    "    \n",
    "    src_X, source_seq_len_test, Y = next(iter(datasets));    \n",
    "    bos_X = torch.empty((len(src_X),1)).fill_(bos_idx).type(torch.int32);\n",
    "\n",
    "    src_X = src_X.to(device);\n",
    "    source_seq_len_test = source_seq_len_test.to(device);\n",
    "    bos_X = bos_X.to(device);\n",
    "    Y = Y.to(device);\n",
    "    \n",
    "    start = time.time();\n",
    "    while(len(src_X) > 0):\n",
    "\n",
    "        Y_hat = torch.transpose(model(src_X, bos_X, source_seq_len_test),0,1)[-1];\n",
    "        preds = torch.argmax(Y_hat,dim=-1,keepdim=True);\n",
    "\n",
    "        bos_X = torch.cat((bos_X,preds),dim=-1);\n",
    "\n",
    "        ## Halt prediction if <eos> token.\n",
    "        preds_is_eos = (preds == eos_idx).flatten();\n",
    "\n",
    "        src_X_halt = source_vocab.idxToToken(src_X[preds_is_eos]);\n",
    "        for i in range(len(src_X_halt)):\n",
    "            preds_outputs_src.append(src_X_halt[i]);\n",
    "\n",
    "        bos_X_halt = target_vocab.idxToToken(bos_X[preds_is_eos]);\n",
    "        for i in range(len(bos_X_halt)):\n",
    "            preds_outputs_y.append(bos_X_halt[i]);\n",
    "\n",
    "        ## Delete terminated predictions.\n",
    "        src_X = src_X[~preds_is_eos];\n",
    "        bos_X = bos_X[~preds_is_eos];\n",
    "        source_seq_len_test = source_seq_len_test[~preds_is_eos];\n",
    "\n",
    "        if (time.time() - start) > 15:\n",
    "            preds_outputs_src = None;\n",
    "            preds_outputs_y = None;\n",
    "            break;\n",
    "         \n",
    "    return preds_outputs_src, preds_outputs_y;"
   ]
  },
  {
   "cell_type": "code",
   "execution_count": 378,
   "id": "c7eac486",
   "metadata": {},
   "outputs": [],
   "source": [
    "def standardizeOutput(output):\n",
    "\n",
    "    if output is None:\n",
    "        return \"EXECUTION ERROR ON THE SERVER\";\n",
    "    else:\n",
    "        output = output[0];\n",
    "\n",
    "        standardized_ouput = \"\";\n",
    "        output = output[1:-1];\n",
    "\n",
    "        len_output = len(output);\n",
    "        for i in range(len_output):\n",
    "            if output[i] == '<special_begin>' or output[i] == '<special_end>':\n",
    "                continue;\n",
    "            elif output[i] == '<space>':\n",
    "                standardized_ouput += \" \";\n",
    "            else:\n",
    "                standardized_ouput += output[i];\n",
    "\n",
    "        return standardized_ouput;\n"
   ]
  },
  {
   "cell_type": "code",
   "execution_count": 379,
   "id": "9150cbbb",
   "metadata": {},
   "outputs": [],
   "source": [
    "def translateUserInput(user_input, model, source_vocab, target_vocab):\n",
    "\n",
    "    model.eval();\n",
    "\n",
    "    user_input_standardized = [standardizeString(user_input, False)];\n",
    "    print(user_input_standardized)\n",
    "    user_input_standardized_tokenized = source_vocab.tokenToIdx(user_input_standardized);\n",
    "\n",
    "    user_input_sequence_len = sequencesLen(user_input_standardized);\n",
    "\n",
    "    # torch.tensor([[0]]) is just here to replace the Y (i.e. the traduction of the user_input) that I don't have access to in production.\n",
    "    data = dataLoader(1, False, user_input_standardized_tokenized, user_input_sequence_len, torch.tensor([[0]]));\n",
    "\n",
    "    out_src, out_y = prediction(model, data, source_vocab, target_vocab);\n",
    "\n",
    "\n",
    "    return [standardizeOutput(out_src), standardizeOutput(out_y)];"
   ]
  },
  {
   "cell_type": "code",
   "execution_count": 380,
   "id": "3911a116",
   "metadata": {},
   "outputs": [
    {
     "name": "stdout",
     "output_type": "stream",
     "text": [
      "[['toêm', '<space>', 'quit', '<space>', 'his', '<space>', 'job', '.', '<eos>']]\n",
      "['EXECUTION ERROR ON THE SERVER', 'EXECUTION ERROR ON THE SERVER']\n"
     ]
    }
   ],
   "source": [
    "print(translateUserInput(\"toêm quit his job.\", model, source_vocab, target_vocab))"
   ]
  },
  {
   "attachments": {},
   "cell_type": "markdown",
   "id": "b386aaf9",
   "metadata": {},
   "source": [
    "***\n",
    "### *AUGMENT EXAMPLES*"
   ]
  },
  {
   "cell_type": "code",
   "execution_count": 381,
   "id": "e1c04757",
   "metadata": {},
   "outputs": [],
   "source": [
    "# augmentExamples();"
   ]
  },
  {
   "cell_type": "code",
   "execution_count": 382,
   "id": "ad3a11a5",
   "metadata": {},
   "outputs": [],
   "source": [
    "from num2words import num2words\n",
    "\n",
    "def augmentExamples():\n",
    "    file = open(\"../data/en_fra.txt\", \"a\");\n",
    "    separator = \"\\t\";\n",
    "    end = 'CC-BY 2.0';\n",
    "\n",
    "    ## SYMBOLS\n",
    "    symbols = ['a', 'b', 'c', 'd', 'e', 'f', 'g', 'h', 'i', 'j', 'k', 'l', 'm', 'n', 'o', 'p', 'q', 'r', 's', 't', 'u', 'v', 'w', 'x', 'y', 'z']\n",
    "    symbols += ['&', 'é', '~', '\"', '#', '\\'', '{', '(', '[', '-', '|', 'è', '`', '_', '\\\\', 'ç', '^', 'à', '@', ')', ']', '=', '°', '}', '+', '/', '*', '?', ',', ';', '.', ':', '!', '§', '¨', '%', 'ù', '$', '£', '¤', 'µ', '«', '»', '<', '>'];\n",
    "\n",
    "    for symb in symbols:\n",
    "        c = symb+separator+symb+end;\n",
    "        file.write(c+\"\\n\");\n",
    "\n",
    "    ## CARDINAL NUMBERS\n",
    "    cardinal = [str(i) for i in range(0,5000)];\n",
    "\n",
    "    for card in cardinal:\n",
    "        c = card+separator+card+end;\n",
    "        w = num2words(card,lang='en')+separator+num2words(card,lang='fr')+end;\n",
    "        cw = card+separator+num2words(card,lang='fr')+end;\n",
    "        wc = num2words(card,lang='en')+separator+card+end;\n",
    "        \n",
    "        file.write(c+\"\\n\");\n",
    "        file.write(w+\"\\n\");\n",
    "        file.write(cw+\"\\n\");\n",
    "        file.write(wc+\"\\n\");\n",
    "\n",
    "        if int(card) <= 100:\n",
    "            c = \"Mozart died in \"+card+\" .\"+separator+\"Mozart est mort en \"+card+\" .\"+end;\n",
    "            w = \"Mozart died in \"+num2words(card,lang='en')+\" .\"+separator+\"Mozart est mort en \"+num2words(card,lang='fr')+\" .\"+end;\n",
    "            cw = \"Mozart died in \"+card+\" .\"+separator+\"Mozart est mort en \"+num2words(card,lang='fr')+\" .\"+end;\n",
    "            wc = \"Mozart died in \"+num2words(card,lang='en')+\" .\"+separator+\"Mozart est mort en \"+card+\" .\"+end;\n",
    "\n",
    "            file.write(c+\"\\n\");\n",
    "            file.write(w+\"\\n\");\n",
    "            file.write(cw+\"\\n\");\n",
    "            file.write(wc+\"\\n\");\n",
    "\n",
    "        if 100 <= int(card) <= 200:\n",
    "\n",
    "            c = \"Is it about \"+card+\" million yen?\"+separator+\"Ça ferait environ \"+card+\" millions de yens?\"+end;\n",
    "            w = \"Is it about \"+num2words(card,lang='en')+\" million yen?\"+separator+\"Ça ferait environ \"+num2words(card,lang='fr')+\" millions de yens?\"+end;\n",
    "            cw = \"Is it about \"+card+\" million yen?\"+separator+\"Ça ferait environ \"+num2words(card,lang='fr')+\" millions de yens?\"+end;\n",
    "            wc = \"Is it about \"+num2words(card,lang='en')+\" million yen?\"+separator+\"Ça ferait environ \"+card+\" millions de yens?\"+end;\n",
    "\n",
    "            file.write(c+\"\\n\");\n",
    "            file.write(w+\"\\n\");\n",
    "            file.write(cw+\"\\n\");\n",
    "            file.write(wc+\"\\n\");\n",
    "\n",
    "        if 200 <= int(card) <= 300:\n",
    "\n",
    "            c = \"The unemployment rate went up to \"+card+\" %\"+separator+\"Le taux de chômage est monté à \"+card+\" %\"+end;\n",
    "            w = \"The unemployment rate went up to \"+num2words(card,lang='en')+\" percent\"+separator+\"Le taux de chômage est monté à \"+num2words(card,lang='fr')+\" pourcent\"+end;\n",
    "            cw = \"The unemployment rate went up to \"+card+\" percent\"+separator+\"Le taux de chômage est monté à \"+num2words(card,lang='fr')+\" pourcent\"+end;\n",
    "            wc = \"The unemployment rate went up to \"+num2words(card,lang='en')+\" percent\"+separator+\"Le taux de chômage est monté à \"+card+\" pourcent\"+end;\n",
    "            \n",
    "            file.write(c+\"\\n\");\n",
    "            file.write(w+\"\\n\");\n",
    "            file.write(cw+\"\\n\");\n",
    "            file.write(wc+\"\\n\");\n",
    "\n",
    "        if 1400 <= int(card) <= 1500:\n",
    "            c = \"I'll be back in \"+card+\" minutes!\"+separator+\"Je serai de retour dans \"+card+\" minutes!\"+end;\n",
    "            w = \"I'll be back in \"+num2words(card,lang='en')+\" minutes!\"+separator+\"Je serai de retour dans \"+num2words(card,lang='fr')+\" minutes!\"+end;\n",
    "            cw = \"I'll be back in \"+card+\" minutes!\"+separator+\"Je serai de retour dans \"+num2words(card,lang='fr')+\" minutes!\"+end;\n",
    "            wc = \"I'll be back in \"+num2words(card,lang='en')+\" minutes!\"+separator+\"Je serai de retour dans \"+card+\" minutes!\"+end;\n",
    "           \n",
    "            file.write(c+\"\\n\");\n",
    "            file.write(w+\"\\n\");\n",
    "            file.write(cw+\"\\n\");\n",
    "            file.write(wc+\"\\n\");\n",
    "        \n",
    "        if 2500 <= int(card) <= 2600:\n",
    "            c = \"This mountain has an altitude of \"+card+\" meters.\"+separator+\"Cette montagne fait \"+card+\" mètres d'altitude.\"+end;\n",
    "            w = \"This mountain has an altitude of \"+num2words(card,lang='en')+\" meters.\"+separator+\"Cette montagne fait \"+num2words(card,lang='fr')+\" mètres d'altitude.\"+end;\n",
    "            cw = \"This mountain has an altitude of \"+card+\" meters.\"+separator+\"Cette montagne fait \"+num2words(card,lang='fr')+\" mètres d'altitude.\"+end;\n",
    "            wc = \"This mountain has an altitude of \"+num2words(card,lang='en')+\" meters.\"+separator+\"Cette montagne fait \"+card+\" mètres d'altitude.\"+end;\n",
    "            \n",
    "            file.write(c+\"\\n\");\n",
    "            file.write(w+\"\\n\");\n",
    "            file.write(cw+\"\\n\");\n",
    "            file.write(wc+\"\\n\");\n",
    "\n",
    "        if 3600 <= int(card) <= 3700:\n",
    "            c = card+\" weeks have passed and I haven't seen you.\"+separator+card+\" semaines sont passées et je ne t'ai pas vue.\"+end;\n",
    "            w = num2words(card,lang='en')+\" weeks have passed and I haven't seen you.\"+separator+num2words(card,lang='fr')+\" semaines sont passées et je ne t'ai pas vue.\"+end;\n",
    "            cw = card+\" weeks have passed and I haven't seen you.\"+separator+num2words(card,lang='fr')+\" semaines sont passées et je ne t'ai pas vue.\"+end;\n",
    "            wc = num2words(card,lang='en')+\" weeks have passed and I haven't seen you.\"+separator+card+\" semaines sont passées et je ne t'ai pas vue.\"+end;\n",
    "\n",
    "            file.write(c+\"\\n\");\n",
    "            file.write(w+\"\\n\");\n",
    "            file.write(cw+\"\\n\");\n",
    "            file.write(wc+\"\\n\");\n",
    "\n",
    "        if 3700 <= int(card) <= 3800:\n",
    "            c = \"There were \"+card+\" girls jumping for joy when the singer started.\"+separator+\"Il y avait \"+card+\"  filles qui sautaient de joie quand le chanteur a commencé.\"+end;\n",
    "            w = \"There were \"+num2words(card,lang='en')+\" girls jumping for joy when the singer started.\"+separator+\"Il y avait \"+num2words(card,lang='fr')+\"  filles qui sautaient de joie quand le chanteur a commencé.\"+end;\n",
    "            cw = \"There were \"+card+\" girls jumping for joy when the singer started.\"+separator+\"Il y avait \"+num2words(card,lang='fr')+\"  filles qui sautaient de joie quand le chanteur a commencé.\"+end;\n",
    "            wc = \"There were \"+num2words(card,lang='en')+\" girls jumping for joy when the singer started.\"+separator+\"Il y avait \"+card+\"  filles qui sautaient de joie quand le chanteur a commencé.\"+end;\n",
    "            \n",
    "            file.write(c+\"\\n\");\n",
    "            file.write(w+\"\\n\");\n",
    "            file.write(cw+\"\\n\");\n",
    "            file.write(wc+\"\\n\");\n",
    "\n",
    "\n",
    "    \n",
    "        ## ORDINAL NUMBERS\n",
    "        w = num2words(card,ordinal=True,lang='en')+separator+num2words(card,ordinal=True,lang='fr')+end;\n",
    "        file.write(w+\"\\n\");\n",
    "\n",
    "        if int(card) <= 50:\n",
    "            w = \"This is our \"+num2words(card,ordinal=True,lang='en')+\" Christmas here in Australia.\"+separator+\"C'est notre \"+num2words(card,ordinal=True,lang='fr')+\" Noël ici en Australie.\"+end;\n",
    "            file.write(w+\"\\n\");\n",
    "\n",
    "        if 150 <= int(card) <= 200:\n",
    "            w = \"Yesterday I played tennis for the \"+num2words(card,ordinal=True,lang='en')+\" time!\"+separator+\"Hier j'ai joué au tennis pour la \"+num2words(card,ordinal=True,lang='fr')+\" fois!\"+end;\n",
    "            file.write(w+\"\\n\");\n",
    "\n",
    "        if 250 <= int(card) <= 300:\n",
    "            w = \"Armstrong was the \"+num2words(card,ordinal=True,lang='en')+\" man to reach the moon.\"+separator+\"Armstrong fut le \"+num2words(card,ordinal=True,lang='fr')+\" homme à atteindre la lune.\"+end;\n",
    "            file.write(w+\"\\n\");\n",
    "\n",
    "        if 300 <= int(card) <= 350:\n",
    "            w = \"It's the \"+num2words(card,ordinal=True,lang='en')+\" thing that I do in the morning.\"+separator+\"C'est la \"+num2words(card,ordinal=True,lang='fr')+\" chose que j'effectue le matin.\"+end;\n",
    "            file.write(w+\"\\n\");\n",
    "        \n",
    "        if 350 <= int(card) <= 400:\n",
    "            w = \"The \"+num2words(card,ordinal=True,lang='en')+\" edition was published ten years ago.\"+separator+\"La \"+num2words(card,ordinal=True,lang='fr')+\" édition fut publiée il y a dix ans.\"+end;\n",
    "            file.write(w+\"\\n\");\n",
    "\n",
    "        if 400 <= int(card) <= 450:\n",
    "            w = \"The \"+num2words(card,ordinal=True,lang='en')+\" thing you have to do is take a bath.\"+separator+\"La \"+num2words(card,ordinal=True,lang='fr')+\" chose que tu as à faire est prendre un bain.\"+end;\n",
    "            file.write(w+\"\\n\");\n",
    "\n",
    "    ## HOURS\n",
    "\n",
    "    for h in range(0,24):\n",
    "        for m in range(0,60):\n",
    "            h = str(h);\n",
    "            m = str(m);\n",
    "\n",
    "            if int(m) <= 9:\n",
    "                w = \"Let's start at \"+h+\":0\"+m+\".\"+separator+\"Commençons à \"+h+\"h0\"+m+\".\"+end;\n",
    "                file.write(w+\"\\n\");\n",
    "            else:\n",
    "                w = \"Let's start at \"+h+\":\"+m+\".\"+separator+\"Commençons à \"+h+\"h\"+m+\".\"+end;\n",
    "                file.write(w+\"\\n\");\n",
    "\n",
    "            if int(m) <= 9:\n",
    "                w = \"Let's start at \"+h+\"h0\"+m+\".\"+separator+\"Commençons à \"+h+\":0\"+m+\".\"+end;\n",
    "                file.write(w+\"\\n\");\n",
    "            else:\n",
    "                w = \"Let's start at \"+h+\"h\"+m+\".\"+separator+\"Commençons à \"+h+\":\"+m+\".\"+end;\n",
    "                file.write(w+\"\\n\");\n",
    "\n",
    "\n",
    "            if int(m) <= 9:\n",
    "                w = \"I thought you had to get up by \"+h+\":0\"+m+\".\"+separator+\"Je croyais que tu devais te lever à \"+h+\":0\"+m+\".\"+end;\n",
    "                file.write(w+\"\\n\");\n",
    "            else:\n",
    "                w = \"I thought you had to get up by \"+h+\":\"+m+\".\"+separator+\"Je croyais que tu devais te lever à \"+h+\":\"+m+\".\"+end;\n",
    "                file.write(w+\"\\n\");\n",
    "\n",
    "            if int(m) <= 9:\n",
    "                w = \"I thought you had to get up by \"+h+\"h0\"+m+\".\"+separator+\"Je croyais que tu devais te lever à \"+h+\"h0\"+m+\".\"+end;\n",
    "                file.write(w+\"\\n\");\n",
    "            else:\n",
    "                w = \"I thought you had to get up by \"+h+\"h\"+m+\".\"+separator+\"Je croyais que tu devais te lever à \"+h+\"h\"+m+\".\"+end;\n",
    "                file.write(w+\"\\n\");\n",
    "\n",
    "            if int(h) <= 12:\n",
    "                w = \"The meeting is scheduled for \"+h+\" am.\"+separator+\"La réunion est prévue pour \"+h+\"h\"+end;\n",
    "                file.write(w+\"\\n\");\n",
    "                w = \"The meeting is scheduled for \"+h+\" a.m.\"+separator+\"La réunion est prévue pour \"+h+\"h\"+end;\n",
    "                file.write(w+\"\\n\");\n",
    "                w = \"The meeting is scheduled for \"+h+\" am.\"+separator+\"La réunion est prévue pour \"+h+\" heures\"+end;\n",
    "                file.write(w+\"\\n\");\n",
    "                w = \"The meeting is scheduled for \"+h+\" a.m.\"+separator+\"La réunion est prévue pour \"+h+\" heures\"+end;\n",
    "                file.write(w+\"\\n\");\n",
    "\n",
    "                w = \"He didn't get in until \"+h+\" o'clock in the morning.\"+separator+\"Il n'a pas pu arriver avant \"+h+\" heures du matin.\"+end;\n",
    "                file.write(w+\"\\n\");\n",
    "                w = \"He didn't get in until \"+num2words(h,lang='en')+\" o'clock in the morning.\"+separator+\"Il n'a pas pu arriver avant \"+num2words(h,lang='fr')+\" heures du matin.\"+end;\n",
    "                file.write(w+\"\\n\");\n",
    "\n",
    "\n",
    "            w = \"Are you going to continue working until \"+h+\":00?\"+separator+\"Vas-tu continuer ton travail jusqu'à \"+h+\"h\"+end;\n",
    "            file.write(w+\"\\n\");\n",
    "            w = \"Are you going to continue working until \"+h+\":00?\"+separator+\"Vas-tu continuer ton travail jusqu'à \"+num2words(h,lang='fr')+\" heures\"+end;\n",
    "            file.write(w+\"\\n\");\n",
    "            w = \"Are you going to continue working until \"+h+\"h?\"+separator+\"Vas-tu continuer ton travail jusqu'à \"+num2words(h,lang='fr')+\" heures\"+end;\n",
    "            file.write(w+\"\\n\");\n",
    "            w = \"Are you going to continue working until \"+h+\":00?\"+separator+\"Vas-tu continuer ton travail jusqu'à \"+h+\" heures\"+end;\n",
    "            file.write(w+\"\\n\");\n",
    "\n",
    "\n",
    "            w = \"If John phones me, please tell him I'll be back by \"+num2words(h,lang='en')+\" o'clock.\"+separator+\"Si John téléphone, veuillez lui dire que je serai de retour à \"+num2words(h,lang='fr')+\" heures.\"+end;\n",
    "            file.write(w+\"\\n\");\n",
    "\n",
    "\n",
    "            w = \"At \"+num2words(h,lang='en')+\" o'clock yesterday, there were hundreds of people outside.\"+separator+\"À \"+num2words(h,lang='fr')+\" heures hier, nous étions des centaines de gens dehors.\"+end;\n",
    "            file.write(w+\"\\n\");\n",
    "            w = \"At \"+h+\" o'clock yesterday, there were hundreds of people outside.\"+separator+\"À \"+num2words(h,lang='fr')+\" heures hier, nous étions des centaines de gens dehors.\"+end;\n",
    "            file.write(w+\"\\n\");\n",
    "            w = \"At \"+num2words(h,lang='en')+\" o'clock yesterday, there were hundreds of people outside.\"+separator+\"À \"+h+\" heures hier, nous étions des centaines de gens dehors.\"+end;\n",
    "            file.write(w+\"\\n\");\n",
    "\n",
    "    f.close();"
   ]
  }
 ],
 "metadata": {
  "kernelspec": {
   "display_name": "Python 3.8.10 ('.TransformerMT_venv': venv)",
   "language": "python",
   "name": "python3"
  },
  "language_info": {
   "codemirror_mode": {
    "name": "ipython",
    "version": 3
   },
   "file_extension": ".py",
   "mimetype": "text/x-python",
   "name": "python",
   "nbconvert_exporter": "python",
   "pygments_lexer": "ipython3",
   "version": "3.8.10"
  },
  "vscode": {
   "interpreter": {
    "hash": "4b5282109e2de597e339e96052518c5bd6dea6a9a81a48690101e47517952a77"
   }
  }
 },
 "nbformat": 4,
 "nbformat_minor": 5
}
